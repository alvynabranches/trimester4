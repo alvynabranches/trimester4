{
 "cells": [
  {
   "cell_type": "code",
   "execution_count": 1,
   "metadata": {},
   "outputs": [],
   "source": [
    "import numpy as np\n",
    "import pandas as pd\n",
    "\n",
    "import matplotlib.pyplot as plt\n",
    "import seaborn as sns\n",
    "\n",
    "import tensorflow.keras as keras\n",
    "from tensorflow.keras.models import Sequential, load_model\n",
    "from tensorflow.keras.layers import Dense, BatchNormalization, Dropout, Input, Flatten, PReLU, LeakyReLU, Activation\n",
    "from tensorflow.keras.losses import MeanSquaredLogarithmicError, MeanAbsolutePercentageError\n",
    "from tensorflow.keras.optimizers import Adam, SGD, RMSprop\n",
    "from tensorflow.keras.activations import linear, relu\n",
    "from tensorflow.keras.metrics import MeanSquaredLogarithmicError, MeanAbsolutePercentageError, RootMeanSquaredError\n",
    "from tensorflow.keras.callbacks import ModelCheckpoint, EarlyStopping\n",
    "\n",
    "from sklearn.preprocessing import StandardScaler\n",
    "from sklearn.model_selection import train_test_split\n",
    "from sklearn.metrics import mean_squared_error\n",
    "from numpy import sqrt\n",
    "import os\n",
    "\n",
    "from warnings import filterwarnings\n",
    "filterwarnings('ignore')"
   ]
  },
  {
   "cell_type": "code",
   "execution_count": 2,
   "metadata": {},
   "outputs": [],
   "source": [
    "if not os.path.isdir('model/'):\n",
    "    os.mkdir('model')\n",
    "best_cp = ModelCheckpoint('best_model.h5', save_best_only=True)\n",
    "all_cp = ModelCheckpoint('model.h5', save_best_only=False)\n",
    "es_cb = EarlyStopping(patience=10, restore_best_weights=True)"
   ]
  },
  {
   "cell_type": "code",
   "execution_count": 3,
   "metadata": {},
   "outputs": [],
   "source": [
    "df = pd.read_csv('./data/coinbaseUSD_1-min_data_2014-12-01_to_2019-01-09.csv')"
   ]
  },
  {
   "cell_type": "code",
   "execution_count": 4,
   "metadata": {},
   "outputs": [
    {
     "output_type": "execute_result",
     "data": {
      "text/plain": "    Timestamp   Open   High    Low  Close  Volume_(BTC)  Volume_(Currency)  \\\n0  1417411980  300.0  300.0  300.0  300.0          0.01                3.0   \n1  1417412040    NaN    NaN    NaN    NaN           NaN                NaN   \n2  1417412100    NaN    NaN    NaN    NaN           NaN                NaN   \n3  1417412160    NaN    NaN    NaN    NaN           NaN                NaN   \n4  1417412220    NaN    NaN    NaN    NaN           NaN                NaN   \n\n   Weighted_Price  \n0           300.0  \n1             NaN  \n2             NaN  \n3             NaN  \n4             NaN  ",
      "text/html": "<div>\n<style scoped>\n    .dataframe tbody tr th:only-of-type {\n        vertical-align: middle;\n    }\n\n    .dataframe tbody tr th {\n        vertical-align: top;\n    }\n\n    .dataframe thead th {\n        text-align: right;\n    }\n</style>\n<table border=\"1\" class=\"dataframe\">\n  <thead>\n    <tr style=\"text-align: right;\">\n      <th></th>\n      <th>Timestamp</th>\n      <th>Open</th>\n      <th>High</th>\n      <th>Low</th>\n      <th>Close</th>\n      <th>Volume_(BTC)</th>\n      <th>Volume_(Currency)</th>\n      <th>Weighted_Price</th>\n    </tr>\n  </thead>\n  <tbody>\n    <tr>\n      <th>0</th>\n      <td>1417411980</td>\n      <td>300.0</td>\n      <td>300.0</td>\n      <td>300.0</td>\n      <td>300.0</td>\n      <td>0.01</td>\n      <td>3.0</td>\n      <td>300.0</td>\n    </tr>\n    <tr>\n      <th>1</th>\n      <td>1417412040</td>\n      <td>NaN</td>\n      <td>NaN</td>\n      <td>NaN</td>\n      <td>NaN</td>\n      <td>NaN</td>\n      <td>NaN</td>\n      <td>NaN</td>\n    </tr>\n    <tr>\n      <th>2</th>\n      <td>1417412100</td>\n      <td>NaN</td>\n      <td>NaN</td>\n      <td>NaN</td>\n      <td>NaN</td>\n      <td>NaN</td>\n      <td>NaN</td>\n      <td>NaN</td>\n    </tr>\n    <tr>\n      <th>3</th>\n      <td>1417412160</td>\n      <td>NaN</td>\n      <td>NaN</td>\n      <td>NaN</td>\n      <td>NaN</td>\n      <td>NaN</td>\n      <td>NaN</td>\n      <td>NaN</td>\n    </tr>\n    <tr>\n      <th>4</th>\n      <td>1417412220</td>\n      <td>NaN</td>\n      <td>NaN</td>\n      <td>NaN</td>\n      <td>NaN</td>\n      <td>NaN</td>\n      <td>NaN</td>\n      <td>NaN</td>\n    </tr>\n  </tbody>\n</table>\n</div>"
     },
     "metadata": {},
     "execution_count": 4
    }
   ],
   "source": [
    "df.head()"
   ]
  },
  {
   "cell_type": "code",
   "execution_count": 5,
   "metadata": {},
   "outputs": [
    {
     "output_type": "execute_result",
     "data": {
      "text/plain": "Timestamp                 0\nOpen                 109069\nHigh                 109069\nLow                  109069\nClose                109069\nVolume_(BTC)         109069\nVolume_(Currency)    109069\nWeighted_Price       109069\ndtype: int64"
     },
     "metadata": {},
     "execution_count": 5
    }
   ],
   "source": [
    "df.isnull().sum()"
   ]
  },
  {
   "cell_type": "code",
   "execution_count": 6,
   "metadata": {
    "tags": []
   },
   "outputs": [
    {
     "output_type": "stream",
     "name": "stdout",
     "text": "<class 'pandas.core.frame.DataFrame'>\nRangeIndex: 2099760 entries, 0 to 2099759\nData columns (total 8 columns):\n #   Column             Dtype  \n---  ------             -----  \n 0   Timestamp          int64  \n 1   Open               float64\n 2   High               float64\n 3   Low                float64\n 4   Close              float64\n 5   Volume_(BTC)       float64\n 6   Volume_(Currency)  float64\n 7   Weighted_Price     float64\ndtypes: float64(7), int64(1)\nmemory usage: 128.2 MB\n"
    }
   ],
   "source": [
    "df.info()"
   ]
  },
  {
   "cell_type": "code",
   "execution_count": 7,
   "metadata": {},
   "outputs": [
    {
     "output_type": "execute_result",
     "data": {
      "text/plain": "Timestamp            0.000000\nOpen                 0.051944\nHigh                 0.051944\nLow                  0.051944\nClose                0.051944\nVolume_(BTC)         0.051944\nVolume_(Currency)    0.051944\nWeighted_Price       0.051944\ndtype: float64"
     },
     "metadata": {},
     "execution_count": 7
    }
   ],
   "source": [
    "df.isnull().sum() / df.shape[0]"
   ]
  },
  {
   "cell_type": "code",
   "execution_count": 8,
   "metadata": {},
   "outputs": [],
   "source": [
    "df = df.dropna()"
   ]
  },
  {
   "cell_type": "code",
   "execution_count": 9,
   "metadata": {},
   "outputs": [
    {
     "output_type": "execute_result",
     "data": {
      "text/plain": "       Timestamp   Open   High    Low  Close  Volume_(BTC)  Volume_(Currency)  \\\n0     1417411980  300.0  300.0  300.0  300.0      0.010000            3.00000   \n7     1417412400  300.0  300.0  300.0  300.0      0.010000            3.00000   \n51    1417415040  370.0  370.0  370.0  370.0      0.010000            3.70000   \n77    1417416600  370.0  370.0  370.0  370.0      0.026556            9.82555   \n1436  1417498140  377.0  377.0  377.0  377.0      0.010000            3.77000   \n\n      Weighted_Price  \n0              300.0  \n7              300.0  \n51             370.0  \n77             370.0  \n1436           377.0  ",
      "text/html": "<div>\n<style scoped>\n    .dataframe tbody tr th:only-of-type {\n        vertical-align: middle;\n    }\n\n    .dataframe tbody tr th {\n        vertical-align: top;\n    }\n\n    .dataframe thead th {\n        text-align: right;\n    }\n</style>\n<table border=\"1\" class=\"dataframe\">\n  <thead>\n    <tr style=\"text-align: right;\">\n      <th></th>\n      <th>Timestamp</th>\n      <th>Open</th>\n      <th>High</th>\n      <th>Low</th>\n      <th>Close</th>\n      <th>Volume_(BTC)</th>\n      <th>Volume_(Currency)</th>\n      <th>Weighted_Price</th>\n    </tr>\n  </thead>\n  <tbody>\n    <tr>\n      <th>0</th>\n      <td>1417411980</td>\n      <td>300.0</td>\n      <td>300.0</td>\n      <td>300.0</td>\n      <td>300.0</td>\n      <td>0.010000</td>\n      <td>3.00000</td>\n      <td>300.0</td>\n    </tr>\n    <tr>\n      <th>7</th>\n      <td>1417412400</td>\n      <td>300.0</td>\n      <td>300.0</td>\n      <td>300.0</td>\n      <td>300.0</td>\n      <td>0.010000</td>\n      <td>3.00000</td>\n      <td>300.0</td>\n    </tr>\n    <tr>\n      <th>51</th>\n      <td>1417415040</td>\n      <td>370.0</td>\n      <td>370.0</td>\n      <td>370.0</td>\n      <td>370.0</td>\n      <td>0.010000</td>\n      <td>3.70000</td>\n      <td>370.0</td>\n    </tr>\n    <tr>\n      <th>77</th>\n      <td>1417416600</td>\n      <td>370.0</td>\n      <td>370.0</td>\n      <td>370.0</td>\n      <td>370.0</td>\n      <td>0.026556</td>\n      <td>9.82555</td>\n      <td>370.0</td>\n    </tr>\n    <tr>\n      <th>1436</th>\n      <td>1417498140</td>\n      <td>377.0</td>\n      <td>377.0</td>\n      <td>377.0</td>\n      <td>377.0</td>\n      <td>0.010000</td>\n      <td>3.77000</td>\n      <td>377.0</td>\n    </tr>\n  </tbody>\n</table>\n</div>"
     },
     "metadata": {},
     "execution_count": 9
    }
   ],
   "source": [
    "df.head()"
   ]
  },
  {
   "cell_type": "code",
   "execution_count": 10,
   "metadata": {},
   "outputs": [],
   "source": [
    "df = df.reset_index().drop(['index'], axis=1)"
   ]
  },
  {
   "cell_type": "code",
   "execution_count": 11,
   "metadata": {},
   "outputs": [
    {
     "output_type": "execute_result",
     "data": {
      "text/plain": "    Timestamp   Open   High    Low  Close  Volume_(BTC)  Volume_(Currency)  \\\n0  1417411980  300.0  300.0  300.0  300.0      0.010000            3.00000   \n1  1417412400  300.0  300.0  300.0  300.0      0.010000            3.00000   \n2  1417415040  370.0  370.0  370.0  370.0      0.010000            3.70000   \n3  1417416600  370.0  370.0  370.0  370.0      0.026556            9.82555   \n4  1417498140  377.0  377.0  377.0  377.0      0.010000            3.77000   \n\n   Weighted_Price  \n0           300.0  \n1           300.0  \n2           370.0  \n3           370.0  \n4           377.0  ",
      "text/html": "<div>\n<style scoped>\n    .dataframe tbody tr th:only-of-type {\n        vertical-align: middle;\n    }\n\n    .dataframe tbody tr th {\n        vertical-align: top;\n    }\n\n    .dataframe thead th {\n        text-align: right;\n    }\n</style>\n<table border=\"1\" class=\"dataframe\">\n  <thead>\n    <tr style=\"text-align: right;\">\n      <th></th>\n      <th>Timestamp</th>\n      <th>Open</th>\n      <th>High</th>\n      <th>Low</th>\n      <th>Close</th>\n      <th>Volume_(BTC)</th>\n      <th>Volume_(Currency)</th>\n      <th>Weighted_Price</th>\n    </tr>\n  </thead>\n  <tbody>\n    <tr>\n      <th>0</th>\n      <td>1417411980</td>\n      <td>300.0</td>\n      <td>300.0</td>\n      <td>300.0</td>\n      <td>300.0</td>\n      <td>0.010000</td>\n      <td>3.00000</td>\n      <td>300.0</td>\n    </tr>\n    <tr>\n      <th>1</th>\n      <td>1417412400</td>\n      <td>300.0</td>\n      <td>300.0</td>\n      <td>300.0</td>\n      <td>300.0</td>\n      <td>0.010000</td>\n      <td>3.00000</td>\n      <td>300.0</td>\n    </tr>\n    <tr>\n      <th>2</th>\n      <td>1417415040</td>\n      <td>370.0</td>\n      <td>370.0</td>\n      <td>370.0</td>\n      <td>370.0</td>\n      <td>0.010000</td>\n      <td>3.70000</td>\n      <td>370.0</td>\n    </tr>\n    <tr>\n      <th>3</th>\n      <td>1417416600</td>\n      <td>370.0</td>\n      <td>370.0</td>\n      <td>370.0</td>\n      <td>370.0</td>\n      <td>0.026556</td>\n      <td>9.82555</td>\n      <td>370.0</td>\n    </tr>\n    <tr>\n      <th>4</th>\n      <td>1417498140</td>\n      <td>377.0</td>\n      <td>377.0</td>\n      <td>377.0</td>\n      <td>377.0</td>\n      <td>0.010000</td>\n      <td>3.77000</td>\n      <td>377.0</td>\n    </tr>\n  </tbody>\n</table>\n</div>"
     },
     "metadata": {},
     "execution_count": 11
    }
   ],
   "source": [
    "df.head()"
   ]
  },
  {
   "cell_type": "code",
   "execution_count": 12,
   "metadata": {},
   "outputs": [
    {
     "output_type": "execute_result",
     "data": {
      "text/plain": "(1417411980, 1546898760)"
     },
     "metadata": {},
     "execution_count": 12
    }
   ],
   "source": [
    "df['Timestamp'].min(), df['Timestamp'].max()"
   ]
  },
  {
   "cell_type": "code",
   "execution_count": 13,
   "metadata": {},
   "outputs": [
    {
     "output_type": "execute_result",
     "data": {
      "text/plain": "(0.06, 19891.99)"
     },
     "metadata": {},
     "execution_count": 13
    }
   ],
   "source": [
    "df['Open'].min(), df['Open'].max()"
   ]
  },
  {
   "cell_type": "code",
   "execution_count": 14,
   "metadata": {},
   "outputs": [
    {
     "output_type": "execute_result",
     "data": {
      "text/plain": "(0.06, 19891.99)"
     },
     "metadata": {},
     "execution_count": 14
    }
   ],
   "source": [
    "df['High'].min(), df['High'].max()"
   ]
  },
  {
   "cell_type": "code",
   "execution_count": 16,
   "metadata": {},
   "outputs": [
    {
     "output_type": "execute_result",
     "data": {
      "text/plain": "(0    300.0\n 1    300.0\n 2    370.0\n 3    370.0\n 4    377.0\n 5    378.0\n 6    378.0\n 7    378.0\n 8    378.0\n 9    378.0\n Name: High, dtype: float64,\n 0    300.00\n 1    300.00\n 2    370.00\n 3    370.00\n 4    377.00\n 5    377.75\n 6    378.00\n 7    378.00\n 8    378.00\n 9    378.00\n Name: Open, dtype: float64)"
     },
     "metadata": {},
     "execution_count": 16
    }
   ],
   "source": [
    "df['High'][0:10], df['Open'][0:10]"
   ]
  },
  {
   "cell_type": "code",
   "execution_count": 17,
   "metadata": {},
   "outputs": [
    {
     "output_type": "execute_result",
     "data": {
      "text/plain": "Timestamp            1.000000\nOpen                 0.223386\nHigh                 0.206552\nLow                  0.217447\nClose                0.223730\nVolume_(BTC)         0.738064\nVolume_(Currency)    0.998683\nWeighted_Price       0.897246\ndtype: float64"
     },
     "metadata": {},
     "execution_count": 17
    }
   ],
   "source": [
    "df.nunique() / df.shape[0]"
   ]
  },
  {
   "cell_type": "code",
   "execution_count": 19,
   "metadata": {},
   "outputs": [
    {
     "output_type": "execute_result",
     "data": {
      "text/plain": "array([3.00000000e+00, 3.70000000e+00, 9.82554980e+00, ...,\n       4.77564731e+03, 1.08142419e+04, 7.02118355e+03])"
     },
     "metadata": {},
     "execution_count": 19
    }
   ],
   "source": [
    "df['Volume_(Currency)'].unique()"
   ]
  },
  {
   "cell_type": "code",
   "execution_count": 20,
   "metadata": {},
   "outputs": [
    {
     "output_type": "execute_result",
     "data": {
      "text/plain": "(1988070,)"
     },
     "metadata": {},
     "execution_count": 20
    }
   ],
   "source": [
    "df['Volume_(Currency)'].unique().shape"
   ]
  },
  {
   "cell_type": "code",
   "execution_count": 21,
   "metadata": {},
   "outputs": [
    {
     "output_type": "execute_result",
     "data": {
      "text/plain": "1990691"
     },
     "metadata": {},
     "execution_count": 21
    }
   ],
   "source": [
    "df.shape[0]"
   ]
  },
  {
   "cell_type": "code",
   "execution_count": 22,
   "metadata": {},
   "outputs": [
    {
     "output_type": "execute_result",
     "data": {
      "text/plain": "(0.06, 19891.987528)"
     },
     "metadata": {},
     "execution_count": 22
    }
   ],
   "source": [
    "df['Weighted_Price'].min(), df['Weighted_Price'].max()"
   ]
  },
  {
   "cell_type": "code",
   "execution_count": 23,
   "metadata": {},
   "outputs": [],
   "source": [
    "X = df.iloc[:,df.columns!='Weighted_Price'].values\n",
    "y = df['Weighted_Price'].values"
   ]
  },
  {
   "cell_type": "code",
   "execution_count": 24,
   "metadata": {},
   "outputs": [],
   "source": [
    "scaler = StandardScaler()\n",
    "X = scaler.fit_transform(X)"
   ]
  },
  {
   "cell_type": "code",
   "execution_count": 25,
   "metadata": {},
   "outputs": [],
   "source": [
    "y = np.log10(y)"
   ]
  },
  {
   "cell_type": "code",
   "execution_count": 26,
   "metadata": {},
   "outputs": [
    {
     "output_type": "execute_result",
     "data": {
      "text/plain": "(1990691, 7)"
     },
     "metadata": {},
     "execution_count": 26
    }
   ],
   "source": [
    "X.shape"
   ]
  },
  {
   "cell_type": "code",
   "execution_count": 27,
   "metadata": {},
   "outputs": [],
   "source": [
    "def train_test_val_split(X, y, val_size=0.15, test_size=0.1):\n",
    "    X_train, X_val, y_train, y_val = train_test_split(X, y, test_size=val_size)\n",
    "    X_train, X_test, y_train, y_test = train_test_split(X_train, y_train, test_size=test_size)\n",
    "    return X_train, X_val, X_test, y_train, y_val, y_test"
   ]
  },
  {
   "cell_type": "code",
   "execution_count": 28,
   "metadata": {},
   "outputs": [],
   "source": [
    "X_train, X_val, X_test, y_train, y_val, y_test = train_test_val_split(X,y)"
   ]
  },
  {
   "cell_type": "code",
   "execution_count": 29,
   "metadata": {},
   "outputs": [
    {
     "output_type": "execute_result",
     "data": {
      "text/plain": "(1522878, 7)"
     },
     "metadata": {},
     "execution_count": 29
    }
   ],
   "source": [
    "X_train.shape"
   ]
  },
  {
   "cell_type": "code",
   "execution_count": 33,
   "metadata": {
    "tags": []
   },
   "outputs": [
    {
     "output_type": "stream",
     "name": "stdout",
     "text": "Model: \"sequential_3\"\n_________________________________________________________________\nLayer (type)                 Output Shape              Param #   \n=================================================================\ndense_1 (Dense)              (None, 7)                 56        \n_________________________________________________________________\nactivation (Activation)      (None, 7)                 0         \n_________________________________________________________________\ndense_2 (Dense)              (None, 14)                112       \n_________________________________________________________________\nactivation_1 (Activation)    (None, 14)                0         \n_________________________________________________________________\ndense_3 (Dense)              (None, 28)                420       \n_________________________________________________________________\nactivation_2 (Activation)    (None, 28)                0         \n_________________________________________________________________\ndense_4 (Dense)              (None, 14)                406       \n_________________________________________________________________\nactivation_3 (Activation)    (None, 14)                0         \n_________________________________________________________________\ndense_5 (Dense)              (None, 7)                 105       \n_________________________________________________________________\nactivation_4 (Activation)    (None, 7)                 0         \n_________________________________________________________________\ndense_6 (Dense)              (None, 3)                 24        \n_________________________________________________________________\nactivation_5 (Activation)    (None, 3)                 0         \n_________________________________________________________________\ndense_7 (Dense)              (None, 1)                 4         \n=================================================================\nTotal params: 1,127\nTrainable params: 1,127\nNon-trainable params: 0\n_________________________________________________________________\n"
    }
   ],
   "source": [
    "model = Sequential()\n",
    "model.add(Input(shape=(7,)))\n",
    "model.add(Dense(7))\n",
    "model.add(Activation(LeakyReLU(0.1)))\n",
    "model.add(Dense(14))\n",
    "model.add(Activation(LeakyReLU(0.1)))\n",
    "model.add(Dense(28))\n",
    "model.add(Activation(LeakyReLU(0.1)))\n",
    "model.add(Dense(14))\n",
    "model.add(Activation(LeakyReLU(0.1)))\n",
    "model.add(Dense(7))\n",
    "model.add(Activation(LeakyReLU(0.1)))\n",
    "model.add(Dense(3))\n",
    "model.add(Activation(LeakyReLU(0.1)))\n",
    "model.add(Dense(1, activation='linear'))\n",
    "model.compile(loss='mse', metrics=[RootMeanSquaredError(name='rmse'), MeanSquaredLogarithmicError(name='msle')])\n",
    "model.summary()"
   ]
  },
  {
   "cell_type": "code",
   "execution_count": 36,
   "metadata": {
    "tags": []
   },
   "outputs": [
    {
     "output_type": "stream",
     "name": "stdout",
     "text": "Epoch 1/100\n47590/47590 [==============================] - 146s 3ms/step - loss: 0.0102 - rmse: 0.1009 - msle: 0.0013 - val_loss: 2.3828e-04 - val_rmse: 0.0154 - val_msle: 1.5537e-05\nEpoch 2/100\n47590/47590 [==============================] - 140s 3ms/step - loss: 4.2835e-04 - rmse: 0.0207 - msle: 2.7835e-05 - val_loss: 2.0480e-04 - val_rmse: 0.0143 - val_msle: 1.3020e-05\nEpoch 3/100\n47590/47590 [==============================] - 164s 3ms/step - loss: 2.9727e-04 - rmse: 0.0172 - msle: 1.9479e-05 - val_loss: 1.8059e-04 - val_rmse: 0.0134 - val_msle: 1.2572e-05\nEpoch 4/100\n47590/47590 [==============================] - 159s 3ms/step - loss: 2.2916e-04 - rmse: 0.0151 - msle: 1.5021e-05 - val_loss: 1.1931e-04 - val_rmse: 0.0109 - val_msle: 7.7164e-06\nEpoch 5/100\n47590/47590 [==============================] - 158s 3ms/step - loss: 1.9024e-04 - rmse: 0.0138 - msle: 1.2129e-05 - val_loss: 6.7457e-05 - val_rmse: 0.0082 - val_msle: 5.2329e-06\nEpoch 6/100\n47590/47590 [==============================] - 148s 3ms/step - loss: 1.5898e-04 - rmse: 0.0126 - msle: 1.0277e-05 - val_loss: 1.9044e-04 - val_rmse: 0.0138 - val_msle: 1.2868e-05\nEpoch 7/100\n47590/47590 [==============================] - 170s 4ms/step - loss: 1.3903e-04 - rmse: 0.0118 - msle: 9.0363e-06 - val_loss: 2.1041e-04 - val_rmse: 0.0145 - val_msle: 1.1463e-05\nEpoch 8/100\n47590/47590 [==============================] - 167s 3ms/step - loss: 1.2857e-04 - rmse: 0.0113 - msle: 8.2587e-06 - val_loss: 1.2646e-04 - val_rmse: 0.0112 - val_msle: 6.5958e-06\nEpoch 9/100\n47590/47590 [==============================] - 158s 3ms/step - loss: 1.2618e-04 - rmse: 0.0112 - msle: 7.8811e-06 - val_loss: 8.2929e-05 - val_rmse: 0.0091 - val_msle: 5.4799e-06\nEpoch 10/100\n47590/47590 [==============================] - 119s 2ms/step - loss: 1.0618e-04 - rmse: 0.0103 - msle: 6.8260e-06 - val_loss: 1.2005e-04 - val_rmse: 0.0110 - val_msle: 9.4332e-06\nEpoch 11/100\n47590/47590 [==============================] - 137s 3ms/step - loss: 1.2781e-04 - rmse: 0.0113 - msle: 6.5505e-06 - val_loss: 1.3466e-04 - val_rmse: 0.0116 - val_msle: 1.0708e-05\nEpoch 12/100\n47590/47590 [==============================] - 164s 3ms/step - loss: 9.1058e-05 - rmse: 0.0095 - msle: 5.7882e-06 - val_loss: 1.2884e-05 - val_rmse: 0.0036 - val_msle: 9.0250e-07\nEpoch 13/100\n47590/47590 [==============================] - 169s 4ms/step - loss: 8.3635e-05 - rmse: 0.0091 - msle: 5.3665e-06 - val_loss: 8.3966e-05 - val_rmse: 0.0092 - val_msle: 6.2165e-06\nEpoch 14/100\n47590/47590 [==============================] - 150s 3ms/step - loss: 7.9344e-05 - rmse: 0.0089 - msle: 5.0543e-06 - val_loss: 5.1921e-05 - val_rmse: 0.0072 - val_msle: 2.8328e-06\nEpoch 15/100\n47590/47590 [==============================] - 167s 3ms/step - loss: 7.6649e-05 - rmse: 0.0088 - msle: 4.8144e-06 - val_loss: 4.5093e-05 - val_rmse: 0.0067 - val_msle: 2.5099e-06\nEpoch 16/100\n47590/47590 [==============================] - 167s 4ms/step - loss: 7.2530e-05 - rmse: 0.0085 - msle: 4.5503e-06 - val_loss: 2.3624e-04 - val_rmse: 0.0154 - val_msle: 1.7569e-05\nEpoch 17/100\n47590/47590 [==============================] - 74s 2ms/step - loss: 7.5922e-05 - rmse: 0.0087 - msle: 4.4700e-06 - val_loss: 2.3436e-05 - val_rmse: 0.0048 - val_msle: 1.6426e-06\nEpoch 18/100\n47590/47590 [==============================] - 38s 793us/step - loss: 6.9076e-05 - rmse: 0.0083 - msle: 4.2860e-06 - val_loss: 7.9180e-05 - val_rmse: 0.0089 - val_msle: 4.8826e-06\nEpoch 19/100\n47590/47590 [==============================] - 38s 796us/step - loss: 6.4316e-05 - rmse: 0.0080 - msle: 4.0062e-06 - val_loss: 2.3566e-05 - val_rmse: 0.0049 - val_msle: 1.5176e-06\nEpoch 20/100\n47590/47590 [==============================] - 37s 772us/step - loss: 6.3948e-05 - rmse: 0.0080 - msle: 3.9513e-06 - val_loss: 1.7509e-05 - val_rmse: 0.0042 - val_msle: 1.0231e-06\nEpoch 21/100\n47590/47590 [==============================] - 37s 769us/step - loss: 6.5685e-05 - rmse: 0.0081 - msle: 3.9874e-06 - val_loss: 3.9225e-05 - val_rmse: 0.0063 - val_msle: 2.7495e-06\nEpoch 22/100\n47590/47590 [==============================] - 36s 764us/step - loss: 6.2207e-05 - rmse: 0.0079 - msle: 3.8493e-06 - val_loss: 3.4746e-05 - val_rmse: 0.0059 - val_msle: 2.1560e-06\n"
    }
   ],
   "source": [
    "history = model.fit(X_train, y_train, epochs=100, validation_data=(X_val, y_val), callbacks=[best_cp, all_cp, es_cb])"
   ]
  },
  {
   "cell_type": "code",
   "execution_count": null,
   "metadata": {},
   "outputs": [],
   "source": []
  }
 ],
 "metadata": {
  "kernelspec": {
   "display_name": "Python 3",
   "language": "python",
   "name": "python3"
  },
  "language_info": {
   "codemirror_mode": {
    "name": "ipython",
    "version": 3
   },
   "file_extension": ".py",
   "mimetype": "text/x-python",
   "name": "python",
   "nbconvert_exporter": "python",
   "pygments_lexer": "ipython3",
   "version": "3.8.5-final"
  }
 },
 "nbformat": 4,
 "nbformat_minor": 4
}