{
  "nbformat": 4,
  "nbformat_minor": 0,
  "metadata": {
    "colab": {
      "name": "BasicSequential.ipynb",
      "provenance": [],
      "collapsed_sections": []
    },
    "kernelspec": {
      "name": "python3",
      "display_name": "Python 3"
    }
  },
  "cells": [
    {
      "cell_type": "code",
      "metadata": {
        "id": "H4uBANidjByB",
        "colab_type": "code",
        "colab": {}
      },
      "source": [
        "import tensorflow as tf\n",
        "from tensorflow import keras\n",
        "import numpy as np"
      ],
      "execution_count": 27,
      "outputs": []
    },
    {
      "cell_type": "code",
      "metadata": {
        "id": "N3dK0a-ujVgO",
        "colab_type": "code",
        "colab": {}
      },
      "source": [
        "fashion_mnist = keras.datasets.fashion_mnist"
      ],
      "execution_count": 2,
      "outputs": []
    },
    {
      "cell_type": "code",
      "metadata": {
        "id": "pjT8gbWPjl2g",
        "colab_type": "code",
        "colab": {}
      },
      "source": [
        "(X_train_full, y_train_full), (X_test, y_test) = fashion_mnist.load_data()"
      ],
      "execution_count": 3,
      "outputs": []
    },
    {
      "cell_type": "code",
      "metadata": {
        "id": "Ok8aq5jzkCgC",
        "colab_type": "code",
        "colab": {
          "base_uri": "https://localhost:8080/",
          "height": 34
        },
        "outputId": "20eeaa33-e012-4a2e-dd73-56a7b4c918f8"
      },
      "source": [
        "X_train_full.shape"
      ],
      "execution_count": 4,
      "outputs": [
        {
          "output_type": "execute_result",
          "data": {
            "text/plain": [
              "(60000, 28, 28)"
            ]
          },
          "metadata": {
            "tags": []
          },
          "execution_count": 4
        }
      ]
    },
    {
      "cell_type": "code",
      "metadata": {
        "id": "R2t8v-Hskt5a",
        "colab_type": "code",
        "colab": {
          "base_uri": "https://localhost:8080/",
          "height": 34
        },
        "outputId": "b577b6ba-8781-4ca9-9acf-2f1a92387b01"
      },
      "source": [
        "y_train_full.shape"
      ],
      "execution_count": 5,
      "outputs": [
        {
          "output_type": "execute_result",
          "data": {
            "text/plain": [
              "(60000,)"
            ]
          },
          "metadata": {
            "tags": []
          },
          "execution_count": 5
        }
      ]
    },
    {
      "cell_type": "code",
      "metadata": {
        "id": "iPu8eesqkx7k",
        "colab_type": "code",
        "colab": {}
      },
      "source": [
        "# Create a scaled validation set and train set\n",
        "# First 5000 rows as the validation set\n",
        "#  \n",
        "X_valid, X_train = X_train_full[:5000] / 255.0, X_train_full[5000:] / 255.0\n",
        "y_valid, y_train = y_train_full[:5000], y_train_full[5000:]"
      ],
      "execution_count": 6,
      "outputs": []
    },
    {
      "cell_type": "code",
      "metadata": {
        "id": "tA7yaT2QnBHy",
        "colab_type": "code",
        "colab": {
          "base_uri": "https://localhost:8080/",
          "height": 34
        },
        "outputId": "7fc20c9d-5dc9-4b7b-ac41-28de46c4ca18"
      },
      "source": [
        "X_valid.shape"
      ],
      "execution_count": 7,
      "outputs": [
        {
          "output_type": "execute_result",
          "data": {
            "text/plain": [
              "(5000, 28, 28)"
            ]
          },
          "metadata": {
            "tags": []
          },
          "execution_count": 7
        }
      ]
    },
    {
      "cell_type": "code",
      "metadata": {
        "id": "u9S7khzjnYMg",
        "colab_type": "code",
        "colab": {
          "base_uri": "https://localhost:8080/",
          "height": 34
        },
        "outputId": "df324251-028c-46e8-e6cc-75ef90ec7f9b"
      },
      "source": [
        "X_train.shape"
      ],
      "execution_count": 8,
      "outputs": [
        {
          "output_type": "execute_result",
          "data": {
            "text/plain": [
              "(55000, 28, 28)"
            ]
          },
          "metadata": {
            "tags": []
          },
          "execution_count": 8
        }
      ]
    },
    {
      "cell_type": "code",
      "metadata": {
        "id": "yDG0eHA474FY",
        "colab_type": "code",
        "colab": {
          "base_uri": "https://localhost:8080/",
          "height": 1000
        },
        "outputId": "22e2cdbe-ebe4-4437-c0ff-05cc02328379"
      },
      "source": [
        "X_train[0]"
      ],
      "execution_count": 9,
      "outputs": [
        {
          "output_type": "execute_result",
          "data": {
            "text/plain": [
              "array([[0.        , 0.        , 0.        , 0.        , 0.        ,\n",
              "        0.        , 0.        , 0.        , 0.        , 0.        ,\n",
              "        0.        , 0.        , 0.        , 0.        , 0.        ,\n",
              "        0.        , 0.        , 0.        , 0.        , 0.00392157,\n",
              "        0.        , 0.        , 0.        , 0.        , 0.        ,\n",
              "        0.        , 0.        , 0.        ],\n",
              "       [0.        , 0.        , 0.        , 0.        , 0.        ,\n",
              "        0.        , 0.        , 0.        , 0.        , 0.        ,\n",
              "        0.        , 0.17254902, 0.49803922, 0.71372549, 0.7254902 ,\n",
              "        0.63137255, 0.47058824, 0.21568627, 0.        , 0.        ,\n",
              "        0.        , 0.        , 0.        , 0.        , 0.        ,\n",
              "        0.        , 0.        , 0.        ],\n",
              "       [0.        , 0.        , 0.        , 0.        , 0.        ,\n",
              "        0.        , 0.        , 0.        , 0.        , 0.16470588,\n",
              "        0.77647059, 0.98431373, 1.        , 0.98431373, 0.97647059,\n",
              "        0.96862745, 1.        , 0.98823529, 0.83921569, 0.39215686,\n",
              "        0.        , 0.        , 0.        , 0.        , 0.        ,\n",
              "        0.        , 0.        , 0.        ],\n",
              "       [0.        , 0.        , 0.        , 0.        , 0.        ,\n",
              "        0.        , 0.00784314, 0.        , 0.        , 0.91372549,\n",
              "        0.98823529, 0.92941176, 0.9372549 , 0.91764706, 0.92941176,\n",
              "        0.92156863, 0.92941176, 0.92941176, 0.99607843, 0.89019608,\n",
              "        0.        , 0.        , 0.        , 0.        , 0.00392157,\n",
              "        0.        , 0.        , 0.        ],\n",
              "       [0.        , 0.        , 0.        , 0.        , 0.        ,\n",
              "        0.00784314, 0.        , 0.        , 0.0627451 , 0.82352941,\n",
              "        0.88235294, 0.84313725, 0.68627451, 0.85098039, 0.84705882,\n",
              "        0.75686275, 0.76862745, 0.88627451, 0.86666667, 0.81960784,\n",
              "        0.19607843, 0.        , 0.        , 0.00784314, 0.        ,\n",
              "        0.        , 0.        , 0.        ],\n",
              "       [0.        , 0.        , 0.        , 0.        , 0.00784314,\n",
              "        0.        , 0.        , 0.78039216, 0.89803922, 0.90980392,\n",
              "        0.90196078, 0.96078431, 0.8       , 0.85882353, 0.99215686,\n",
              "        0.96078431, 0.81176471, 0.76078431, 0.8745098 , 0.90588235,\n",
              "        0.9254902 , 0.92156863, 0.        , 0.        , 0.01176471,\n",
              "        0.        , 0.        , 0.        ],\n",
              "       [0.        , 0.        , 0.        , 0.        , 0.00392157,\n",
              "        0.        , 0.5372549 , 0.92156863, 0.8       , 0.81960784,\n",
              "        0.78823529, 0.81960784, 0.91764706, 0.74509804, 0.91764706,\n",
              "        0.85490196, 0.84313725, 0.93333333, 0.9372549 , 0.8       ,\n",
              "        0.74117647, 0.87843137, 0.60392157, 0.        , 0.        ,\n",
              "        0.        , 0.        , 0.        ],\n",
              "       [0.        , 0.        , 0.        , 0.        , 0.        ,\n",
              "        0.        , 0.76078431, 0.78823529, 0.78431373, 0.81960784,\n",
              "        0.79215686, 0.75686275, 0.80392157, 0.76078431, 0.71764706,\n",
              "        0.85490196, 0.90588235, 0.77254902, 0.6745098 , 0.70980392,\n",
              "        0.75686275, 0.80392157, 0.78039216, 0.        , 0.        ,\n",
              "        0.        , 0.        , 0.        ],\n",
              "       [0.        , 0.        , 0.        , 0.        , 0.        ,\n",
              "        0.01176471, 0.83137255, 0.79607843, 0.7372549 , 0.74117647,\n",
              "        0.76862745, 0.77647059, 0.77647059, 0.78823529, 0.76862745,\n",
              "        0.85098039, 0.70196078, 0.65490196, 0.71764706, 0.85098039,\n",
              "        0.77254902, 0.79215686, 0.85882353, 0.11764706, 0.        ,\n",
              "        0.        , 0.        , 0.        ],\n",
              "       [0.        , 0.        , 0.        , 0.        , 0.        ,\n",
              "        0.13333333, 0.88235294, 0.78431373, 0.76078431, 0.74509804,\n",
              "        0.7372549 , 0.75294118, 0.76862745, 0.75294118, 0.66666667,\n",
              "        0.79215686, 0.74509804, 0.78823529, 0.76470588, 0.78431373,\n",
              "        0.78823529, 0.81960784, 0.89019608, 0.19607843, 0.        ,\n",
              "        0.        , 0.        , 0.        ],\n",
              "       [0.        , 0.        , 0.        , 0.        , 0.        ,\n",
              "        0.26666667, 0.88235294, 0.82352941, 0.82745098, 0.77647059,\n",
              "        0.75294118, 0.76862745, 0.8       , 0.76862745, 0.70980392,\n",
              "        0.83137255, 0.77254902, 0.76470588, 0.75294118, 0.80784314,\n",
              "        0.8627451 , 0.82352941, 0.89803922, 0.36470588, 0.        ,\n",
              "        0.        , 0.        , 0.        ],\n",
              "       [0.        , 0.        , 0.        , 0.        , 0.        ,\n",
              "        0.43529412, 0.8745098 , 0.89019608, 0.99215686, 0.81960784,\n",
              "        0.76862745, 0.8       , 0.82745098, 0.80784314, 0.71764706,\n",
              "        0.84705882, 0.80784314, 0.82352941, 0.79607843, 0.84313725,\n",
              "        0.95686275, 0.87843137, 0.89019608, 0.58823529, 0.        ,\n",
              "        0.        , 0.        , 0.        ],\n",
              "       [0.        , 0.        , 0.        , 0.        , 0.        ,\n",
              "        0.54509804, 0.88235294, 0.87843137, 1.        , 0.79215686,\n",
              "        0.80784314, 0.83137255, 0.81960784, 0.82745098, 0.74509804,\n",
              "        0.83529412, 0.79215686, 0.81176471, 0.80784314, 0.87058824,\n",
              "        1.        , 0.90196078, 0.8627451 , 0.74509804, 0.        ,\n",
              "        0.        , 0.        , 0.        ],\n",
              "       [0.        , 0.        , 0.        , 0.        , 0.        ,\n",
              "        0.70588235, 0.88627451, 0.87843137, 1.        , 0.78039216,\n",
              "        0.8       , 0.81176471, 0.83921569, 0.83921569, 0.74509804,\n",
              "        0.84705882, 0.80784314, 0.79607843, 0.80392157, 0.85882353,\n",
              "        0.95294118, 0.87843137, 0.83921569, 0.91764706, 0.        ,\n",
              "        0.        , 0.        , 0.        ],\n",
              "       [0.        , 0.        , 0.        , 0.        , 0.        ,\n",
              "        0.88235294, 0.8745098 , 0.89411765, 0.99607843, 0.81960784,\n",
              "        0.80784314, 0.81568627, 0.83529412, 0.82352941, 0.74901961,\n",
              "        0.84313725, 0.81176471, 0.8       , 0.81568627, 0.82745098,\n",
              "        0.97647059, 0.88627451, 0.83921569, 1.        , 0.14901961,\n",
              "        0.        , 0.        , 0.        ],\n",
              "       [0.        , 0.        , 0.        , 0.        , 0.        ,\n",
              "        0.98039216, 0.90980392, 0.94117647, 0.9372549 , 0.82745098,\n",
              "        0.79607843, 0.81960784, 0.80392157, 0.82745098, 0.77254902,\n",
              "        0.84313725, 0.81568627, 0.81568627, 0.83921569, 0.83529412,\n",
              "        0.9372549 , 0.90588235, 0.85882353, 1.        , 0.31764706,\n",
              "        0.        , 0.        , 0.        ],\n",
              "       [0.        , 0.        , 0.        , 0.        , 0.        ,\n",
              "        0.97254902, 0.9254902 , 0.96862745, 0.94117647, 0.79607843,\n",
              "        0.78431373, 0.81568627, 0.80784314, 0.83921569, 0.75686275,\n",
              "        0.83529412, 0.83137255, 0.81568627, 0.83137255, 0.82745098,\n",
              "        0.95294118, 0.94901961, 0.88235294, 0.99607843, 0.25882353,\n",
              "        0.        , 0.        , 0.        ],\n",
              "       [0.        , 0.        , 0.        , 0.        , 0.        ,\n",
              "        0.96862745, 0.90196078, 0.98823529, 0.88627451, 0.78039216,\n",
              "        0.82745098, 0.79215686, 0.82745098, 0.83529412, 0.71372549,\n",
              "        0.83529412, 0.83137255, 0.80784314, 0.79215686, 0.85882353,\n",
              "        0.81176471, 0.96862745, 0.87058824, 0.92941176, 0.40784314,\n",
              "        0.        , 0.        , 0.        ],\n",
              "       [0.        , 0.        , 0.        , 0.        , 0.03921569,\n",
              "        0.95686275, 0.85882353, 0.98039216, 0.80392157, 0.78039216,\n",
              "        0.81960784, 0.79215686, 0.81960784, 0.82745098, 0.74117647,\n",
              "        0.83921569, 0.80784314, 0.82352941, 0.78431373, 0.83137255,\n",
              "        0.60392157, 0.94117647, 0.81568627, 0.85882353, 0.54901961,\n",
              "        0.        , 0.        , 0.        ],\n",
              "       [0.        , 0.        , 0.        , 0.        , 0.08235294,\n",
              "        1.        , 0.87058824, 0.93333333, 0.72156863, 0.82352941,\n",
              "        0.75294118, 0.80784314, 0.81960784, 0.82352941, 0.74117647,\n",
              "        0.83529412, 0.82745098, 0.81960784, 0.75294118, 0.89411765,\n",
              "        0.60784314, 0.88627451, 0.93333333, 0.94509804, 0.65098039,\n",
              "        0.        , 0.        , 0.        ],\n",
              "       [0.        , 0.        , 0.        , 0.        , 0.14509804,\n",
              "        0.96078431, 0.88627451, 0.94509804, 0.58823529, 0.77254902,\n",
              "        0.74117647, 0.8       , 0.81960784, 0.82352941, 0.71764706,\n",
              "        0.83529412, 0.83529412, 0.78823529, 0.72156863, 0.84313725,\n",
              "        0.57254902, 0.84705882, 0.9254902 , 0.88235294, 0.60392157,\n",
              "        0.        , 0.        , 0.        ],\n",
              "       [0.        , 0.        , 0.        , 0.        , 0.22745098,\n",
              "        0.9372549 , 0.89019608, 1.        , 0.61960784, 0.75686275,\n",
              "        0.76470588, 0.8       , 0.81960784, 0.83529412, 0.70588235,\n",
              "        0.81176471, 0.85098039, 0.78039216, 0.76078431, 0.82745098,\n",
              "        0.61960784, 0.85882353, 0.9254902 , 0.84705882, 0.59215686,\n",
              "        0.        , 0.        , 0.        ],\n",
              "       [0.        , 0.        , 0.        , 0.        , 0.26666667,\n",
              "        0.91372549, 0.88627451, 0.95294118, 0.54509804, 0.78431373,\n",
              "        0.75686275, 0.80392157, 0.82352941, 0.81568627, 0.70588235,\n",
              "        0.80392157, 0.83137255, 0.79607843, 0.76862745, 0.84705882,\n",
              "        0.61568627, 0.70196078, 1.        , 0.84705882, 0.60784314,\n",
              "        0.        , 0.        , 0.        ],\n",
              "       [0.        , 0.        , 0.        , 0.        , 0.31764706,\n",
              "        0.88235294, 0.87843137, 0.82745098, 0.54117647, 0.85882353,\n",
              "        0.7254902 , 0.78823529, 0.83529412, 0.81176471, 0.77254902,\n",
              "        0.88627451, 0.83137255, 0.78431373, 0.74509804, 0.84313725,\n",
              "        0.71764706, 0.35294118, 1.        , 0.82745098, 0.57647059,\n",
              "        0.        , 0.        , 0.        ],\n",
              "       [0.        , 0.        , 0.        , 0.        , 0.35686275,\n",
              "        0.82352941, 0.90196078, 0.61960784, 0.44705882, 0.80392157,\n",
              "        0.73333333, 0.81568627, 0.81960784, 0.80784314, 0.75686275,\n",
              "        0.82352941, 0.82745098, 0.8       , 0.76470588, 0.8       ,\n",
              "        0.70980392, 0.09019608, 1.        , 0.83529412, 0.61960784,\n",
              "        0.        , 0.        , 0.        ],\n",
              "       [0.        , 0.        , 0.        , 0.        , 0.34117647,\n",
              "        0.80392157, 0.90980392, 0.42745098, 0.64313725, 1.        ,\n",
              "        0.83921569, 0.87843137, 0.87058824, 0.82352941, 0.77254902,\n",
              "        0.83921569, 0.88235294, 0.87058824, 0.82745098, 0.8627451 ,\n",
              "        0.85098039, 0.        , 0.91764706, 0.84705882, 0.6627451 ,\n",
              "        0.        , 0.        , 0.        ],\n",
              "       [0.        , 0.        , 0.        , 0.        , 0.36078431,\n",
              "        0.83529412, 0.90980392, 0.57254902, 0.01960784, 0.5254902 ,\n",
              "        0.59215686, 0.63529412, 0.66666667, 0.71764706, 0.71372549,\n",
              "        0.64313725, 0.65098039, 0.69803922, 0.63529412, 0.61176471,\n",
              "        0.38431373, 0.        , 0.94117647, 0.88235294, 0.82352941,\n",
              "        0.        , 0.        , 0.        ],\n",
              "       [0.        , 0.        , 0.        , 0.        , 0.16862745,\n",
              "        0.64313725, 0.80784314, 0.55294118, 0.        , 0.        ,\n",
              "        0.        , 0.        , 0.        , 0.        , 0.        ,\n",
              "        0.        , 0.        , 0.        , 0.        , 0.        ,\n",
              "        0.        , 0.        , 0.49803922, 0.49019608, 0.29803922,\n",
              "        0.        , 0.        , 0.        ]])"
            ]
          },
          "metadata": {
            "tags": []
          },
          "execution_count": 9
        }
      ]
    },
    {
      "cell_type": "code",
      "metadata": {
        "id": "CBlQ8s38nbGf",
        "colab_type": "code",
        "colab": {}
      },
      "source": [
        "class_names = [\"T-shirt/top\", \"Trouser\", \"Pullover\", \"Dress\", \"Coat\",\n",
        "\"Sandal\", \"Shirt\", \"Sneaker\", \"Bag\", \"Ankle boot\"]"
      ],
      "execution_count": 10,
      "outputs": []
    },
    {
      "cell_type": "code",
      "metadata": {
        "id": "oOX96Dx1njD3",
        "colab_type": "code",
        "colab": {
          "base_uri": "https://localhost:8080/",
          "height": 68
        },
        "outputId": "029faaa2-06ed-4999-fab2-787019a89778"
      },
      "source": [
        "print(y_train)\n",
        "class_names[y_train[0]]\n",
        "np.unique(y_train,True)"
      ],
      "execution_count": 11,
      "outputs": [
        {
          "output_type": "stream",
          "text": [
            "[4 0 7 ... 3 0 5]\n"
          ],
          "name": "stdout"
        },
        {
          "output_type": "execute_result",
          "data": {
            "text/plain": [
              "(array([0, 1, 2, 3, 4, 5, 6, 7, 8, 9], dtype=uint8),\n",
              " array([ 1, 11, 18,  8,  0, 30, 13,  2, 12,  3]))"
            ]
          },
          "metadata": {
            "tags": []
          },
          "execution_count": 11
        }
      ]
    },
    {
      "cell_type": "code",
      "metadata": {
        "id": "cqbZACERnpLS",
        "colab_type": "code",
        "colab": {}
      },
      "source": [
        "#creates a Sequential model.\n",
        "model = keras.models.Sequential()\n",
        "model.add(keras.layers.Flatten(input_shape=[28, 28]))\n",
        "model.add(keras.layers.Dense(300, activation=\"relu\"))\n",
        "model.add(keras.layers.Dense(100, activation=\"relu\"))\n",
        "model.add(keras.layers.Dense(10, activation=\"softmax\"))"
      ],
      "execution_count": 12,
      "outputs": []
    },
    {
      "cell_type": "markdown",
      "metadata": {
        "id": "3inerRTepfd3",
        "colab_type": "text"
      },
      "source": [
        "The 'Flatten' type of layer will reshape the input into a 1D array. This is equivalent to computing X.reshape(-1,1) if say input is X\n",
        "\n",
        "Other option is to use\n",
        "tf.keras.layers.InputLayer(\n",
        "    input_shape=None, batch_size=None, dtype=None, input_tensor=None,sparse=False,name=None, ragged=False, **kwargs)\n",
        "\n",
        "For our case, it would be :\n",
        "model.add(keras.layers.InputLayer(shape=[28,28]))\n"
      ]
    },
    {
      "cell_type": "markdown",
      "metadata": {
        "id": "PhDKKxo3qgm8",
        "colab_type": "text"
      },
      "source": [
        "We now have 784 basic neurons in the Input layer, one for each of the 784 features, so let us choose the further layers / hidden layer(s).\n",
        "\n",
        "To begin with we have added say 300 neurons in the first layer and 100 in the second layer.\n",
        "ReLU activation function is used. \n",
        "The last layer is the softmax layer, as we have multi-class output requirement."
      ]
    },
    {
      "cell_type": "code",
      "metadata": {
        "id": "G-Oq6g6MqtFZ",
        "colab_type": "code",
        "colab": {
          "base_uri": "https://localhost:8080/",
          "height": 289
        },
        "outputId": "adc469ea-888c-48e7-80d6-95c7cafefb2a"
      },
      "source": [
        "model.summary()"
      ],
      "execution_count": 13,
      "outputs": [
        {
          "output_type": "stream",
          "text": [
            "Model: \"sequential\"\n",
            "_________________________________________________________________\n",
            "Layer (type)                 Output Shape              Param #   \n",
            "=================================================================\n",
            "flatten (Flatten)            (None, 784)               0         \n",
            "_________________________________________________________________\n",
            "dense (Dense)                (None, 300)               235500    \n",
            "_________________________________________________________________\n",
            "dense_1 (Dense)              (None, 100)               30100     \n",
            "_________________________________________________________________\n",
            "dense_2 (Dense)              (None, 10)                1010      \n",
            "=================================================================\n",
            "Total params: 266,610\n",
            "Trainable params: 266,610\n",
            "Non-trainable params: 0\n",
            "_________________________________________________________________\n"
          ],
          "name": "stdout"
        }
      ]
    },
    {
      "cell_type": "markdown",
      "metadata": {
        "id": "gSly3wl9uXjD",
        "colab_type": "text"
      },
      "source": [
        "Non-trainable Parameters : Currently out of scope. To be discussed later."
      ]
    },
    {
      "cell_type": "markdown",
      "metadata": {
        "id": "eMW1YbtFtFyi",
        "colab_type": "text"
      },
      "source": [
        "Alternate SYntax \n",
        "\n",
        "model = keras.models.Sequential([\n",
        "keras.layers.Flatten(input_shape=[28, 28]),\n",
        "keras.layers.Dense(300, activation=\"relu\"),\n",
        "keras.layers.Dense(100, activation=\"relu\"),\n",
        "keras.layers.Dense(10, activation=\"softmax\")\n",
        "])"
      ]
    },
    {
      "cell_type": "code",
      "metadata": {
        "id": "24KK-2Wluisj",
        "colab_type": "code",
        "colab": {
          "base_uri": "https://localhost:8080/",
          "height": 85
        },
        "outputId": "61504627-1e89-4566-d0e4-71e0846d13f2"
      },
      "source": [
        "model.layers"
      ],
      "execution_count": 14,
      "outputs": [
        {
          "output_type": "execute_result",
          "data": {
            "text/plain": [
              "[<tensorflow.python.keras.layers.core.Flatten at 0x7f33465ed6d8>,\n",
              " <tensorflow.python.keras.layers.core.Dense at 0x7f33465edda0>,\n",
              " <tensorflow.python.keras.layers.core.Dense at 0x7f33887102e8>,\n",
              " <tensorflow.python.keras.layers.core.Dense at 0x7f33465edf98>]"
            ]
          },
          "metadata": {
            "tags": []
          },
          "execution_count": 14
        }
      ]
    },
    {
      "cell_type": "code",
      "metadata": {
        "id": "pYd67jX8y_ye",
        "colab_type": "code",
        "colab": {
          "base_uri": "https://localhost:8080/",
          "height": 35
        },
        "outputId": "d15fee75-b096-4045-ec29-5853cca83b19"
      },
      "source": [
        "model.layers[0].name\n",
        "model.layers[1].name\n",
        "model.layers[2].name\n",
        "model.layers[3].name"
      ],
      "execution_count": 15,
      "outputs": [
        {
          "output_type": "execute_result",
          "data": {
            "application/vnd.google.colaboratory.intrinsic+json": {
              "type": "string"
            },
            "text/plain": [
              "'dense_2'"
            ]
          },
          "metadata": {
            "tags": []
          },
          "execution_count": 15
        }
      ]
    },
    {
      "cell_type": "code",
      "metadata": {
        "id": "XftYr9C6zJQo",
        "colab_type": "code",
        "colab": {}
      },
      "source": [
        "w,b = model.layers[2].get_weights()"
      ],
      "execution_count": 16,
      "outputs": []
    },
    {
      "cell_type": "code",
      "metadata": {
        "id": "uinqXhLkzkTf",
        "colab_type": "code",
        "colab": {
          "base_uri": "https://localhost:8080/",
          "height": 34
        },
        "outputId": "b85832e8-ed9d-4980-9fc3-7fcf9780a39a"
      },
      "source": [
        "w.shape"
      ],
      "execution_count": 17,
      "outputs": [
        {
          "output_type": "execute_result",
          "data": {
            "text/plain": [
              "(300, 100)"
            ]
          },
          "metadata": {
            "tags": []
          },
          "execution_count": 17
        }
      ]
    },
    {
      "cell_type": "code",
      "metadata": {
        "id": "Sv19P3dgzyc7",
        "colab_type": "code",
        "colab": {
          "base_uri": "https://localhost:8080/",
          "height": 34
        },
        "outputId": "f4bfd1c2-6589-4464-f599-5ecfe9fc18c2"
      },
      "source": [
        "b.shape"
      ],
      "execution_count": 18,
      "outputs": [
        {
          "output_type": "execute_result",
          "data": {
            "text/plain": [
              "(100,)"
            ]
          },
          "metadata": {
            "tags": []
          },
          "execution_count": 18
        }
      ]
    },
    {
      "cell_type": "code",
      "metadata": {
        "id": "JmzWUS4Az0F6",
        "colab_type": "code",
        "colab": {}
      },
      "source": [
        "model.compile(loss=\"sparse_categorical_crossentropy\",  #\"sparse_categorical_crossentropy\",\n",
        "optimizer=\"sgd\", #\"sgd\",\n",
        "metrics=[\"accuracy\"]) # could be a custom function as well!"
      ],
      "execution_count": 19,
      "outputs": []
    },
    {
      "cell_type": "markdown",
      "metadata": {
        "id": "Ff43DuOQ0yZM",
        "colab_type": "text"
      },
      "source": [
        "Refer the documentation of the compile method at this link:\n",
        "https://www.tensorflow.org/api_docs/python/tf/keras/Model#compile"
      ]
    },
    {
      "cell_type": "code",
      "metadata": {
        "id": "ilADAF8E0cA1",
        "colab_type": "code",
        "colab": {
          "base_uri": "https://localhost:8080/",
          "height": 1000
        },
        "outputId": "3d0759cf-f4ed-4587-a670-25503f339f82"
      },
      "source": [
        "fithistory = model.fit(X_train, y_train, epochs=30,validation_data=(X_valid, y_valid))"
      ],
      "execution_count": 20,
      "outputs": [
        {
          "output_type": "stream",
          "text": [
            "Epoch 1/30\n",
            "1719/1719 [==============================] - 6s 3ms/step - loss: 0.7413 - accuracy: 0.7589 - val_loss: 0.5315 - val_accuracy: 0.8152\n",
            "Epoch 2/30\n",
            "1719/1719 [==============================] - 5s 3ms/step - loss: 0.4917 - accuracy: 0.8281 - val_loss: 0.4515 - val_accuracy: 0.8498\n",
            "Epoch 3/30\n",
            "1719/1719 [==============================] - 5s 3ms/step - loss: 0.4457 - accuracy: 0.8438 - val_loss: 0.4286 - val_accuracy: 0.8522\n",
            "Epoch 4/30\n",
            "1719/1719 [==============================] - 5s 3ms/step - loss: 0.4186 - accuracy: 0.8520 - val_loss: 0.4178 - val_accuracy: 0.8586\n",
            "Epoch 5/30\n",
            "1719/1719 [==============================] - 5s 3ms/step - loss: 0.3984 - accuracy: 0.8607 - val_loss: 0.4105 - val_accuracy: 0.8586\n",
            "Epoch 6/30\n",
            "1719/1719 [==============================] - 5s 3ms/step - loss: 0.3836 - accuracy: 0.8649 - val_loss: 0.3745 - val_accuracy: 0.8706\n",
            "Epoch 7/30\n",
            "1719/1719 [==============================] - 5s 3ms/step - loss: 0.3694 - accuracy: 0.8697 - val_loss: 0.3782 - val_accuracy: 0.8704\n",
            "Epoch 8/30\n",
            "1719/1719 [==============================] - 5s 3ms/step - loss: 0.3566 - accuracy: 0.8742 - val_loss: 0.3742 - val_accuracy: 0.8700\n",
            "Epoch 9/30\n",
            "1719/1719 [==============================] - 5s 3ms/step - loss: 0.3471 - accuracy: 0.8770 - val_loss: 0.3651 - val_accuracy: 0.8714\n",
            "Epoch 10/30\n",
            "1719/1719 [==============================] - 5s 3ms/step - loss: 0.3380 - accuracy: 0.8800 - val_loss: 0.3558 - val_accuracy: 0.8752\n",
            "Epoch 11/30\n",
            "1719/1719 [==============================] - 6s 3ms/step - loss: 0.3285 - accuracy: 0.8829 - val_loss: 0.3363 - val_accuracy: 0.8838\n",
            "Epoch 12/30\n",
            "1719/1719 [==============================] - 5s 3ms/step - loss: 0.3195 - accuracy: 0.8864 - val_loss: 0.3400 - val_accuracy: 0.8768\n",
            "Epoch 13/30\n",
            "1719/1719 [==============================] - 5s 3ms/step - loss: 0.3125 - accuracy: 0.8876 - val_loss: 0.3463 - val_accuracy: 0.8726\n",
            "Epoch 14/30\n",
            "1719/1719 [==============================] - 5s 3ms/step - loss: 0.3047 - accuracy: 0.8907 - val_loss: 0.3240 - val_accuracy: 0.8858\n",
            "Epoch 15/30\n",
            "1719/1719 [==============================] - 5s 3ms/step - loss: 0.2979 - accuracy: 0.8917 - val_loss: 0.3375 - val_accuracy: 0.8768\n",
            "Epoch 16/30\n",
            "1719/1719 [==============================] - 5s 3ms/step - loss: 0.2927 - accuracy: 0.8951 - val_loss: 0.3256 - val_accuracy: 0.8852\n",
            "Epoch 17/30\n",
            "1719/1719 [==============================] - 5s 3ms/step - loss: 0.2854 - accuracy: 0.8965 - val_loss: 0.3067 - val_accuracy: 0.8872\n",
            "Epoch 18/30\n",
            "1719/1719 [==============================] - 5s 3ms/step - loss: 0.2807 - accuracy: 0.8987 - val_loss: 0.3121 - val_accuracy: 0.8856\n",
            "Epoch 19/30\n",
            "1719/1719 [==============================] - 5s 3ms/step - loss: 0.2751 - accuracy: 0.9008 - val_loss: 0.3309 - val_accuracy: 0.8776\n",
            "Epoch 20/30\n",
            "1719/1719 [==============================] - 5s 3ms/step - loss: 0.2699 - accuracy: 0.9032 - val_loss: 0.3102 - val_accuracy: 0.8864\n",
            "Epoch 21/30\n",
            "1719/1719 [==============================] - 5s 3ms/step - loss: 0.2643 - accuracy: 0.9044 - val_loss: 0.3239 - val_accuracy: 0.8842\n",
            "Epoch 22/30\n",
            "1719/1719 [==============================] - 5s 3ms/step - loss: 0.2595 - accuracy: 0.9071 - val_loss: 0.3231 - val_accuracy: 0.8860\n",
            "Epoch 23/30\n",
            "1719/1719 [==============================] - 5s 3ms/step - loss: 0.2543 - accuracy: 0.9078 - val_loss: 0.3009 - val_accuracy: 0.8914\n",
            "Epoch 24/30\n",
            "1719/1719 [==============================] - 5s 3ms/step - loss: 0.2505 - accuracy: 0.9102 - val_loss: 0.3019 - val_accuracy: 0.8910\n",
            "Epoch 25/30\n",
            "1719/1719 [==============================] - 5s 3ms/step - loss: 0.2458 - accuracy: 0.9115 - val_loss: 0.3098 - val_accuracy: 0.8864\n",
            "Epoch 26/30\n",
            "1719/1719 [==============================] - 5s 3ms/step - loss: 0.2420 - accuracy: 0.9124 - val_loss: 0.3178 - val_accuracy: 0.8856\n",
            "Epoch 27/30\n",
            "1719/1719 [==============================] - 5s 3ms/step - loss: 0.2378 - accuracy: 0.9142 - val_loss: 0.3115 - val_accuracy: 0.8822\n",
            "Epoch 28/30\n",
            "1719/1719 [==============================] - 5s 3ms/step - loss: 0.2336 - accuracy: 0.9155 - val_loss: 0.2928 - val_accuracy: 0.8918\n",
            "Epoch 29/30\n",
            "1719/1719 [==============================] - 5s 3ms/step - loss: 0.2289 - accuracy: 0.9179 - val_loss: 0.3062 - val_accuracy: 0.8852\n",
            "Epoch 30/30\n",
            "1719/1719 [==============================] - 5s 3ms/step - loss: 0.2250 - accuracy: 0.9183 - val_loss: 0.2955 - val_accuracy: 0.8952\n"
          ],
          "name": "stdout"
        }
      ]
    },
    {
      "cell_type": "code",
      "metadata": {
        "id": "OpUkoZiX3yss",
        "colab_type": "code",
        "colab": {
          "base_uri": "https://localhost:8080/",
          "height": 527
        },
        "outputId": "d069c6a6-93e7-4373-999b-b9ec2320c2c9"
      },
      "source": [
        "fithistory.epoch # Lists the epochs"
      ],
      "execution_count": 21,
      "outputs": [
        {
          "output_type": "execute_result",
          "data": {
            "text/plain": [
              "[0,\n",
              " 1,\n",
              " 2,\n",
              " 3,\n",
              " 4,\n",
              " 5,\n",
              " 6,\n",
              " 7,\n",
              " 8,\n",
              " 9,\n",
              " 10,\n",
              " 11,\n",
              " 12,\n",
              " 13,\n",
              " 14,\n",
              " 15,\n",
              " 16,\n",
              " 17,\n",
              " 18,\n",
              " 19,\n",
              " 20,\n",
              " 21,\n",
              " 22,\n",
              " 23,\n",
              " 24,\n",
              " 25,\n",
              " 26,\n",
              " 27,\n",
              " 28,\n",
              " 29]"
            ]
          },
          "metadata": {
            "tags": []
          },
          "execution_count": 21
        }
      ]
    },
    {
      "cell_type": "code",
      "metadata": {
        "id": "xS_tXkJt4zkB",
        "colab_type": "code",
        "colab": {
          "base_uri": "https://localhost:8080/",
          "height": 34
        },
        "outputId": "2b256a85-03ff-4b2d-cfcb-c4817973f295"
      },
      "source": [
        "fithistory.params"
      ],
      "execution_count": 22,
      "outputs": [
        {
          "output_type": "execute_result",
          "data": {
            "text/plain": [
              "{'epochs': 30, 'steps': 1719, 'verbose': 1}"
            ]
          },
          "metadata": {
            "tags": []
          },
          "execution_count": 22
        }
      ]
    },
    {
      "cell_type": "code",
      "metadata": {
        "id": "633v7P705AI9",
        "colab_type": "code",
        "colab": {
          "base_uri": "https://localhost:8080/",
          "height": 1000
        },
        "outputId": "5c4c9c50-26c8-41bb-a9e6-8c131aabe082"
      },
      "source": [
        "fithistory.history"
      ],
      "execution_count": 23,
      "outputs": [
        {
          "output_type": "execute_result",
          "data": {
            "text/plain": [
              "{'accuracy': [0.7589091062545776,\n",
              "  0.828072726726532,\n",
              "  0.843818187713623,\n",
              "  0.8519999980926514,\n",
              "  0.8607090711593628,\n",
              "  0.8648727536201477,\n",
              "  0.8696545362472534,\n",
              "  0.8742181658744812,\n",
              "  0.8770363926887512,\n",
              "  0.8799818158149719,\n",
              "  0.8829091191291809,\n",
              "  0.8864363431930542,\n",
              "  0.8875636458396912,\n",
              "  0.8907272815704346,\n",
              "  0.8916545510292053,\n",
              "  0.8951091170310974,\n",
              "  0.8965272903442383,\n",
              "  0.8986545205116272,\n",
              "  0.9008363485336304,\n",
              "  0.9031999707221985,\n",
              "  0.9043818116188049,\n",
              "  0.9070909023284912,\n",
              "  0.9078181982040405,\n",
              "  0.9101636409759521,\n",
              "  0.9114909172058105,\n",
              "  0.9124181866645813,\n",
              "  0.9141636490821838,\n",
              "  0.9155091047286987,\n",
              "  0.9179090857505798,\n",
              "  0.918327271938324],\n",
              " 'loss': [0.7413054704666138,\n",
              "  0.4917384684085846,\n",
              "  0.44572946429252625,\n",
              "  0.41856369376182556,\n",
              "  0.3983749747276306,\n",
              "  0.3836337625980377,\n",
              "  0.36935073137283325,\n",
              "  0.3565503656864166,\n",
              "  0.34713107347488403,\n",
              "  0.338035523891449,\n",
              "  0.32854363322257996,\n",
              "  0.3194660544395447,\n",
              "  0.31253018975257874,\n",
              "  0.304670125246048,\n",
              "  0.2979465126991272,\n",
              "  0.2927248477935791,\n",
              "  0.2854496240615845,\n",
              "  0.28069230914115906,\n",
              "  0.27511751651763916,\n",
              "  0.2698720693588257,\n",
              "  0.2642667591571808,\n",
              "  0.2595287263393402,\n",
              "  0.2543025314807892,\n",
              "  0.25051072239875793,\n",
              "  0.245823472738266,\n",
              "  0.2420150190591812,\n",
              "  0.23781992495059967,\n",
              "  0.23362113535404205,\n",
              "  0.22891363501548767,\n",
              "  0.22503942251205444],\n",
              " 'val_accuracy': [0.8151999711990356,\n",
              "  0.8497999906539917,\n",
              "  0.8521999716758728,\n",
              "  0.8586000204086304,\n",
              "  0.8586000204086304,\n",
              "  0.8705999851226807,\n",
              "  0.8704000115394592,\n",
              "  0.8700000047683716,\n",
              "  0.871399998664856,\n",
              "  0.8751999735832214,\n",
              "  0.8838000297546387,\n",
              "  0.876800000667572,\n",
              "  0.8726000189781189,\n",
              "  0.8858000040054321,\n",
              "  0.876800000667572,\n",
              "  0.885200023651123,\n",
              "  0.8871999979019165,\n",
              "  0.8855999708175659,\n",
              "  0.8776000142097473,\n",
              "  0.8863999843597412,\n",
              "  0.8841999769210815,\n",
              "  0.8859999775886536,\n",
              "  0.8913999795913696,\n",
              "  0.890999972820282,\n",
              "  0.8863999843597412,\n",
              "  0.8855999708175659,\n",
              "  0.8822000026702881,\n",
              "  0.8917999863624573,\n",
              "  0.885200023651123,\n",
              "  0.8952000141143799],\n",
              " 'val_loss': [0.5314775705337524,\n",
              "  0.4514661133289337,\n",
              "  0.42863765358924866,\n",
              "  0.4177502393722534,\n",
              "  0.4105331599712372,\n",
              "  0.3744772672653198,\n",
              "  0.37819674611091614,\n",
              "  0.3742290139198303,\n",
              "  0.36511552333831787,\n",
              "  0.3557913899421692,\n",
              "  0.33626943826675415,\n",
              "  0.34000450372695923,\n",
              "  0.3463164269924164,\n",
              "  0.3240092098712921,\n",
              "  0.3374920189380646,\n",
              "  0.32555192708969116,\n",
              "  0.30669623613357544,\n",
              "  0.3120548725128174,\n",
              "  0.33087629079818726,\n",
              "  0.31021150946617126,\n",
              "  0.32385915517807007,\n",
              "  0.3231121301651001,\n",
              "  0.3008607029914856,\n",
              "  0.3019406795501709,\n",
              "  0.3098454475402832,\n",
              "  0.31783363223075867,\n",
              "  0.3114745020866394,\n",
              "  0.292812317609787,\n",
              "  0.30620139837265015,\n",
              "  0.2955494225025177]}"
            ]
          },
          "metadata": {
            "tags": []
          },
          "execution_count": 23
        }
      ]
    },
    {
      "cell_type": "code",
      "metadata": {
        "id": "7tfTLyTe5HKv",
        "colab_type": "code",
        "colab": {
          "base_uri": "https://localhost:8080/",
          "height": 324
        },
        "outputId": "d2877bfc-e936-463e-db06-1312f431f0ad"
      },
      "source": [
        "import pandas as pd\n",
        "import matplotlib.pyplot as plt\n",
        "\n",
        "pd.DataFrame(fithistory.history).plot(figsize=(8, 5))\n",
        "plt.grid(True)\n",
        "plt.gca().set_ylim(0, 1) # set the vertical range to [0-1]\n",
        "plt.show()"
      ],
      "execution_count": 28,
      "outputs": [
        {
          "output_type": "display_data",
          "data": {
            "image/png": "[encoded data removed]",
            "text/plain": [
              "<Figure size 576x360 with 1 Axes>"
            ]
          },
          "metadata": {
            "tags": [],
            "needs_background": "light"
          }
        }
      ]
    },
    {
      "cell_type": "code",
      "metadata": {
        "id": "X0QoRcVa5bw2",
        "colab_type": "code",
        "colab": {
          "base_uri": "https://localhost:8080/",
          "height": 527
        },
        "outputId": "86626a8c-e0e1-4fc9-f36b-9bea9b80abcd"
      },
      "source": [
        "fithistory.history[\"accuracy\"]"
      ],
      "execution_count": 25,
      "outputs": [
        {
          "output_type": "execute_result",
          "data": {
            "text/plain": [
              "[0.7589091062545776,\n",
              " 0.828072726726532,\n",
              " 0.843818187713623,\n",
              " 0.8519999980926514,\n",
              " 0.8607090711593628,\n",
              " 0.8648727536201477,\n",
              " 0.8696545362472534,\n",
              " 0.8742181658744812,\n",
              " 0.8770363926887512,\n",
              " 0.8799818158149719,\n",
              " 0.8829091191291809,\n",
              " 0.8864363431930542,\n",
              " 0.8875636458396912,\n",
              " 0.8907272815704346,\n",
              " 0.8916545510292053,\n",
              " 0.8951091170310974,\n",
              " 0.8965272903442383,\n",
              " 0.8986545205116272,\n",
              " 0.9008363485336304,\n",
              " 0.9031999707221985,\n",
              " 0.9043818116188049,\n",
              " 0.9070909023284912,\n",
              " 0.9078181982040405,\n",
              " 0.9101636409759521,\n",
              " 0.9114909172058105,\n",
              " 0.9124181866645813,\n",
              " 0.9141636490821838,\n",
              " 0.9155091047286987,\n",
              " 0.9179090857505798,\n",
              " 0.918327271938324]"
            ]
          },
          "metadata": {
            "tags": []
          },
          "execution_count": 25
        }
      ]
    },
    {
      "cell_type": "code",
      "metadata": {
        "id": "jchtKhc87XV3",
        "colab_type": "code",
        "colab": {
          "base_uri": "https://localhost:8080/",
          "height": 51
        },
        "outputId": "965592a4-ed22-45c6-ff76-97814ada48f6"
      },
      "source": [
        "model.evaluate(X_test, y_test)"
      ],
      "execution_count": 26,
      "outputs": [
        {
          "output_type": "stream",
          "text": [
            "313/313 [==============================] - 1s 2ms/step - loss: 75.6242 - accuracy: 0.8308\n"
          ],
          "name": "stdout"
        },
        {
          "output_type": "execute_result",
          "data": {
            "text/plain": [
              "[75.62415313720703, 0.8307999968528748]"
            ]
          },
          "metadata": {
            "tags": []
          },
          "execution_count": 26
        }
      ]
    },
    {
      "cell_type": "markdown",
      "metadata": {
        "id": "LjODA4toGD1u",
        "colab_type": "text"
      },
      "source": [
        "Prediction"
      ]
    },
    {
      "cell_type": "code",
      "metadata": {
        "id": "YfHvqRjMGGqM",
        "colab_type": "code",
        "colab": {}
      },
      "source": [
        "X_new = X_test[:5]"
      ],
      "execution_count": 29,
      "outputs": []
    },
    {
      "cell_type": "code",
      "metadata": {
        "id": "2Xq6ZH1kGJJI",
        "colab_type": "code",
        "colab": {}
      },
      "source": [
        "y_proba = model.predict(X_new)"
      ],
      "execution_count": 30,
      "outputs": []
    },
    {
      "cell_type": "code",
      "metadata": {
        "id": "iCZqEobtGMkn",
        "colab_type": "code",
        "colab": {
          "base_uri": "https://localhost:8080/",
          "height": 102
        },
        "outputId": "e9ca51bf-42a2-461e-a78c-8abdb9e8e7b6"
      },
      "source": [
        "y_proba.round(2)"
      ],
      "execution_count": 31,
      "outputs": [
        {
          "output_type": "execute_result",
          "data": {
            "text/plain": [
              "array([[0., 0., 0., 0., 0., 0., 0., 0., 0., 1.],\n",
              "       [0., 0., 1., 0., 0., 0., 0., 0., 0., 0.],\n",
              "       [0., 1., 0., 0., 0., 0., 0., 0., 0., 0.],\n",
              "       [0., 1., 0., 0., 0., 0., 0., 0., 0., 0.],\n",
              "       [0., 0., 0., 0., 0., 0., 1., 0., 0., 0.]], dtype=float32)"
            ]
          },
          "metadata": {
            "tags": []
          },
          "execution_count": 31
        }
      ]
    },
    {
      "cell_type": "code",
      "metadata": {
        "id": "SuPFw2PgGRQ6",
        "colab_type": "code",
        "colab": {
          "base_uri": "https://localhost:8080/",
          "height": 88
        },
        "outputId": "fbf70ff0-4538-48a6-edce-b848e530691e"
      },
      "source": [
        "y_pred = model.predict_classes(X_new)"
      ],
      "execution_count": 32,
      "outputs": [
        {
          "output_type": "stream",
          "text": [
            "WARNING:tensorflow:From <ipython-input-32-53f3df9ca645>:1: Sequential.predict_classes (from tensorflow.python.keras.engine.sequential) is deprecated and will be removed after 2021-01-01.\n",
            "Instructions for updating:\n",
            "Please use instead:* `np.argmax(model.predict(x), axis=-1)`,   if your model does multi-class classification   (e.g. if it uses a `softmax` last-layer activation).* `(model.predict(x) > 0.5).astype(\"int32\")`,   if your model does binary classification   (e.g. if it uses a `sigmoid` last-layer activation).\n"
          ],
          "name": "stdout"
        }
      ]
    },
    {
      "cell_type": "code",
      "metadata": {
        "id": "dalJVXTYGT2h",
        "colab_type": "code",
        "colab": {
          "base_uri": "https://localhost:8080/",
          "height": 34
        },
        "outputId": "a1b85345-fbea-4067-8a36-83a8dddf0dbe"
      },
      "source": [
        "y_pred"
      ],
      "execution_count": 33,
      "outputs": [
        {
          "output_type": "execute_result",
          "data": {
            "text/plain": [
              "array([9, 2, 1, 1, 6])"
            ]
          },
          "metadata": {
            "tags": []
          },
          "execution_count": 33
        }
      ]
    },
    {
      "cell_type": "code",
      "metadata": {
        "id": "VhbTsCQSGegL",
        "colab_type": "code",
        "colab": {
          "base_uri": "https://localhost:8080/",
          "height": 51
        },
        "outputId": "62cb238f-dfee-49f3-9ae0-07e18c8efec8"
      },
      "source": [
        "np.array(class_names)[y_pred]"
      ],
      "execution_count": 34,
      "outputs": [
        {
          "output_type": "execute_result",
          "data": {
            "text/plain": [
              "array(['Ankle boot', 'Pullover', 'Trouser', 'Trouser', 'Shirt'],\n",
              "      dtype='<U11')"
            ]
          },
          "metadata": {
            "tags": []
          },
          "execution_count": 34
        }
      ]
    },
    {
      "cell_type": "code",
      "metadata": {
        "id": "Dds3Sr_QGhus",
        "colab_type": "code",
        "colab": {
          "base_uri": "https://localhost:8080/",
          "height": 191
        },
        "outputId": "5ed7f8c4-6568-498b-a7c8-ee9957f67931"
      },
      "source": [
        "# plot first few images\n",
        "for i in range(5):\n",
        "\t# define subplot\n",
        "\tplt.subplot(3,3,i+1)\n",
        "\t# plot raw pixel data\n",
        "\tplt.imshow(X_new[i], cmap=plt.get_cmap('gray'))\n",
        "# show the figure\n",
        "plt.show()"
      ],
      "execution_count": 38,
      "outputs": [
        {
          "output_type": "display_data",
          "data": {
            "image/png": "[encoded data removed]",
            "text/plain": [
              "<Figure size 432x288 with 5 Axes>"
            ]
          },
          "metadata": {
            "tags": [],
            "needs_background": "light"
          }
        }
      ]
    },
    {
      "cell_type": "code",
      "metadata": {
        "id": "bxeMCXU2HWX_",
        "colab_type": "code",
        "colab": {}
      },
      "source": [
        ""
      ],
      "execution_count": null,
      "outputs": []
    }
  ]
}