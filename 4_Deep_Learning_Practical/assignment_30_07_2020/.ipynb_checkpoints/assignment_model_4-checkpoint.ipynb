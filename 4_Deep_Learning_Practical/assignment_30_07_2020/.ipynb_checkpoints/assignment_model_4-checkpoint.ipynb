{
 "cells": [
  {
   "cell_type": "code",
   "execution_count": 1,
   "metadata": {},
   "outputs": [],
   "source": [
    "import numpy as np\n",
    "import pandas as pd\n",
    "\n",
    "import matplotlib.pyplot as plt\n",
    "import seaborn as sns\n",
    "\n",
    "import tensorflow.keras as keras\n",
    "from tensorflow.keras.models import Sequential, load_model\n",
    "from tensorflow.keras.layers import Dense, BatchNormalization, Dropout, Input, Flatten, Activation, PReLU\n",
    "from tensorflow.keras.losses import BinaryCrossentropy, CategoricalCrossentropy, SparseCategoricalCrossentropy, MeanSquaredError\n",
    "from tensorflow.keras.optimizers import Adam, SGD, RMSprop\n",
    "from tensorflow.keras.activations import linear, relu\n",
    "\n",
    "from sklearn.model_selection import train_test_split\n",
    "from sklearn.metrics import mean_squared_error\n",
    "from numpy import sqrt\n",
    "\n",
    "from warnings import filterwarnings\n",
    "filterwarnings('ignore')"
   ]
  },
  {
   "cell_type": "code",
   "execution_count": 2,
   "metadata": {},
   "outputs": [],
   "source": [
    "train_df = pd.read_csv('./data/train.csv')\n",
    "test_df = pd.read_csv('./data/test.csv')"
   ]
  },
  {
   "cell_type": "code",
   "execution_count": 3,
   "metadata": {},
   "outputs": [
    {
     "name": "stdout",
     "output_type": "stream",
     "text": [
      "Wall time: 9.76 s\n"
     ]
    }
   ],
   "source": [
    "%%time\n",
    "cat = [f'col_{i}' for i in range(1, 117)]\n",
    "con = [f'col_{i}' for i in range(117, 131)]\n",
    "for c in cat:\n",
    "    train_df[c] = train_df[c].astype('category')\n",
    "    test_df[c] = test_df[c].astype('category')\n",
    "    train_df[c] = train_df[c].cat.codes\n",
    "    test_df[c] = test_df[c].cat.codes\n",
    "del c\n",
    "train_df.drop('id', axis=1, inplace=True)\n",
    "test_df.drop('id', axis=1, inplace=True)"
   ]
  },
  {
   "cell_type": "code",
   "execution_count": 4,
   "metadata": {},
   "outputs": [],
   "source": [
    "X = train_df.iloc[:,train_df.columns != 'target'].values\n",
    "y = train_df.iloc[:,train_df.columns == 'target'].values"
   ]
  },
  {
   "cell_type": "code",
   "execution_count": 5,
   "metadata": {},
   "outputs": [],
   "source": [
    "X_train, X_test, y_train, y_test = train_test_split(X, y)\n",
    "X_train, X_val, y_train, y_val = train_test_split(X_train, y_train)\n",
    "del X, y"
   ]
  },
  {
   "cell_type": "code",
   "execution_count": 6,
   "metadata": {},
   "outputs": [
    {
     "name": "stdout",
     "output_type": "stream",
     "text": [
      "Model: \"sequential\"\n",
      "_________________________________________________________________\n",
      "Layer (type)                 Output Shape              Param #   \n",
      "=================================================================\n",
      "dense (Dense)                (None, 260)               34060     \n",
      "_________________________________________________________________\n",
      "dropout (Dropout)            (None, 260)               0         \n",
      "_________________________________________________________________\n",
      "dense_1 (Dense)              (None, 520)               135720    \n",
      "_________________________________________________________________\n",
      "dropout_1 (Dropout)          (None, 520)               0         \n",
      "_________________________________________________________________\n",
      "dense_2 (Dense)              (None, 260)               135460    \n",
      "_________________________________________________________________\n",
      "dropout_2 (Dropout)          (None, 260)               0         \n",
      "_________________________________________________________________\n",
      "dense_3 (Dense)              (None, 130)               33930     \n",
      "_________________________________________________________________\n",
      "dropout_3 (Dropout)          (None, 130)               0         \n",
      "_________________________________________________________________\n",
      "dense_4 (Dense)              (None, 65)                8515      \n",
      "_________________________________________________________________\n",
      "dropout_4 (Dropout)          (None, 65)                0         \n",
      "_________________________________________________________________\n",
      "dense_5 (Dense)              (None, 32)                2112      \n",
      "_________________________________________________________________\n",
      "dense_6 (Dense)              (None, 1)                 33        \n",
      "=================================================================\n",
      "Total params: 349,830\n",
      "Trainable params: 349,830\n",
      "Non-trainable params: 0\n",
      "_________________________________________________________________\n"
     ]
    }
   ],
   "source": [
    "activation_fn = 'relu'\n",
    "model = Sequential()\n",
    "# Input Layer\n",
    "model.add(Input(shape=(130,)))\n",
    "\n",
    "# First Hidden Layer\n",
    "model.add(Dense(260, activation=activation_fn))\n",
    "model.add(Dropout(.3))\n",
    "\n",
    "# Second Hidden Layer\n",
    "model.add(Dense(520, activation=activation_fn))\n",
    "model.add(Dropout(.4))\n",
    "\n",
    "# Third Hidden Layer\n",
    "model.add(Dense(260, activation=activation_fn))\n",
    "model.add(Dropout(.3))\n",
    "\n",
    "# Fourth Hidden Layer\n",
    "model.add(Dense(130, activation=activation_fn))\n",
    "model.add(Dropout(.2))\n",
    "\n",
    "# Firth Hidden Layer\n",
    "model.add(Dense(65, activation=activation_fn))\n",
    "model.add(Dropout(.1))\n",
    "\n",
    "# Sixth Hidden Layer\n",
    "model.add(Dense(32, activation=activation_fn))\n",
    "\n",
    "# Output Layer\n",
    "model.add(Dense(1, activation=linear))\n",
    "model.compile(optimizer=RMSprop(learning_rate=1e-3), loss=MeanSquaredError(), metrics=['mse', 'mae'])\n",
    "model.summary()"
   ]
  },
  {
   "cell_type": "code",
   "execution_count": 7,
   "metadata": {},
   "outputs": [],
   "source": [
    "mse_history = []\n",
    "mae_history = []"
   ]
  },
  {
   "cell_type": "code",
   "execution_count": null,
   "metadata": {
    "scrolled": false
   },
   "outputs": [
    {
     "name": "stdout",
     "output_type": "stream",
     "text": [
      "Epoch 1/100\n",
      "2980/2980 [==============================] - 22s 7ms/step - loss: 5956222.5000 - mse: 5956222.5000 - mae: 1531.5386 - val_loss: 5801152.5000 - val_mse: 5801152.5000 - val_mae: 1419.1067\n",
      "Epoch 2/100\n",
      "2980/2980 [==============================] - 22s 7ms/step - loss: 5178345.0000 - mse: 5178345.0000 - mae: 1410.7272 - val_loss: 4509687.0000 - val_mse: 4509687.0000 - val_mae: 1269.6991\n",
      "Epoch 3/100\n",
      "2980/2980 [==============================] - 28s 9ms/step - loss: 5071676.5000 - mse: 5071676.5000 - mae: 1395.2234 - val_loss: 4114221.7500 - val_mse: 4114221.7500 - val_mae: 1335.0708\n",
      "Epoch 4/100\n",
      "2980/2980 [==============================] - 18s 6ms/step - loss: 5040193.5000 - mse: 5040193.5000 - mae: 1388.3733 - val_loss: 4238910.0000 - val_mse: 4238910.0000 - val_mae: 1259.4462\n",
      "Epoch 5/100\n",
      "2980/2980 [==============================] - 18s 6ms/step - loss: 4943599.5000 - mse: 4943599.5000 - mae: 1371.8440 - val_loss: 5911537.0000 - val_mse: 5911537.0000 - val_mae: 1786.7345\n",
      "Epoch 6/100\n",
      "2980/2980 [==============================] - 17s 6ms/step - loss: 4885363.0000 - mse: 4885363.0000 - mae: 1364.3922 - val_loss: 4557081.0000 - val_mse: 4557081.0000 - val_mae: 1296.2299\n",
      "Epoch 7/100\n",
      "2980/2980 [==============================] - 17s 6ms/step - loss: 4841365.5000 - mse: 4841365.5000 - mae: 1355.2512 - val_loss: 4310239.0000 - val_mse: 4310239.0000 - val_mae: 1263.0817\n",
      "Epoch 8/100\n",
      "2980/2980 [==============================] - 22s 7ms/step - loss: 4850335.0000 - mse: 4850335.0000 - mae: 1352.4401 - val_loss: 4380195.0000 - val_mse: 4380195.0000 - val_mae: 1293.4169\n",
      "Epoch 9/100\n",
      "2980/2980 [==============================] - 19s 7ms/step - loss: 4846081.0000 - mse: 4846081.0000 - mae: 1360.7693 - val_loss: 4155507.0000 - val_mse: 4155507.0000 - val_mae: 1285.7020\n",
      "Epoch 10/100\n",
      "2980/2980 [==============================] - 21s 7ms/step - loss: 4845417.0000 - mse: 4845417.0000 - mae: 1362.0350 - val_loss: 4161564.5000 - val_mse: 4161564.5000 - val_mae: 1248.5555\n",
      "Epoch 11/100\n",
      "2980/2980 [==============================] - 21s 7ms/step - loss: 4808565.5000 - mse: 4808565.5000 - mae: 1367.4659 - val_loss: 4268323.5000 - val_mse: 4268323.5000 - val_mae: 1433.2069\n",
      "Epoch 12/100\n",
      "2980/2980 [==============================] - 20s 7ms/step - loss: 4865338.5000 - mse: 4865338.5000 - mae: 1366.8779 - val_loss: 4000380.2500 - val_mse: 4000380.2500 - val_mae: 1304.1121\n",
      "Epoch 13/100\n",
      "2980/2980 [==============================] - 19s 7ms/step - loss: 4794929.0000 - mse: 4794929.0000 - mae: 1359.0785 - val_loss: 4645039.5000 - val_mse: 4645039.5000 - val_mae: 1579.7144\n",
      "Epoch 14/100\n",
      "2980/2980 [==============================] - 21s 7ms/step - loss: 4779920.0000 - mse: 4779920.0000 - mae: 1355.6738 - val_loss: 4225167.5000 - val_mse: 4225167.5000 - val_mae: 1393.2811\n",
      "Epoch 15/100\n",
      "2980/2980 [==============================] - 20s 7ms/step - loss: 4763132.0000 - mse: 4763132.0000 - mae: 1355.1473 - val_loss: 4140245.5000 - val_mse: 4140245.5000 - val_mae: 1350.3948\n",
      "Epoch 16/100\n",
      "2980/2980 [==============================] - 18s 6ms/step - loss: 4745978.5000 - mse: 4745978.5000 - mae: 1348.7775 - val_loss: 4080315.7500 - val_mse: 4080315.7500 - val_mae: 1420.8629\n",
      "Epoch 17/100\n",
      "2980/2980 [==============================] - 21s 7ms/step - loss: 4742119.0000 - mse: 4742119.0000 - mae: 1350.5088 - val_loss: 4125045.5000 - val_mse: 4125045.5000 - val_mae: 1275.1428\n",
      "Epoch 18/100\n",
      "2980/2980 [==============================] - 22s 7ms/step - loss: 4660896.5000 - mse: 4660896.5000 - mae: 1344.0106 - val_loss: 4377679.5000 - val_mse: 4377679.5000 - val_mae: 1373.0918\n",
      "Epoch 19/100\n",
      "2980/2980 [==============================] - 20s 7ms/step - loss: 4666333.0000 - mse: 4666333.0000 - mae: 1343.9644 - val_loss: 4384505.0000 - val_mse: 4384505.0000 - val_mae: 1375.6050\n",
      "Epoch 20/100\n",
      "2980/2980 [==============================] - 20s 7ms/step - loss: 4699128.0000 - mse: 4699128.0000 - mae: 1349.8757 - val_loss: 5287443.5000 - val_mse: 5287443.5000 - val_mae: 1764.8530\n",
      "Epoch 21/100\n",
      "2980/2980 [==============================] - 20s 7ms/step - loss: 4675985.0000 - mse: 4675985.0000 - mae: 1348.6562 - val_loss: 4165306.7500 - val_mse: 4165306.7500 - val_mae: 1339.7861\n",
      "Epoch 22/100\n",
      "2980/2980 [==============================] - 20s 7ms/step - loss: 4709408.5000 - mse: 4709408.5000 - mae: 1346.8297 - val_loss: 3988608.5000 - val_mse: 3988608.5000 - val_mae: 1294.6710\n",
      "Epoch 23/100\n",
      "2980/2980 [==============================] - 19s 6ms/step - loss: 4688643.5000 - mse: 4688643.5000 - mae: 1348.5271 - val_loss: 4407941.0000 - val_mse: 4407941.0000 - val_mae: 1441.2863\n",
      "Epoch 24/100\n",
      "2980/2980 [==============================] - 25s 8ms/step - loss: 4674331.5000 - mse: 4674331.5000 - mae: 1347.4022 - val_loss: 4374800.0000 - val_mse: 4374800.0000 - val_mae: 1455.8156\n",
      "Epoch 25/100\n",
      "2980/2980 [==============================] - 21s 7ms/step - loss: 4711740.5000 - mse: 4711740.5000 - mae: 1351.2531 - val_loss: 4104328.2500 - val_mse: 4104328.2500 - val_mae: 1355.8312\n",
      "Epoch 26/100\n",
      "2980/2980 [==============================] - 21s 7ms/step - loss: 4695294.5000 - mse: 4695294.5000 - mae: 1346.1658 - val_loss: 4034128.0000 - val_mse: 4034128.0000 - val_mae: 1334.2078\n",
      "Epoch 27/100\n",
      "2980/2980 [==============================] - 23s 8ms/step - loss: 4679307.0000 - mse: 4679307.0000 - mae: 1346.4536 - val_loss: 4155036.2500 - val_mse: 4155036.2500 - val_mae: 1259.5801\n",
      "Epoch 28/100\n",
      "2980/2980 [==============================] - 22s 7ms/step - loss: 4718743.5000 - mse: 4718743.5000 - mae: 1351.1776 - val_loss: 4393511.0000 - val_mse: 4393511.0000 - val_mae: 1526.1318\n",
      "Epoch 29/100\n",
      "2980/2980 [==============================] - 20s 7ms/step - loss: 4734951.5000 - mse: 4734951.5000 - mae: 1348.3197 - val_loss: 4109023.2500 - val_mse: 4109023.2500 - val_mae: 1358.5082\n",
      "Epoch 30/100\n",
      "2980/2980 [==============================] - 21s 7ms/step - loss: 4758984.5000 - mse: 4758984.5000 - mae: 1350.7412 - val_loss: 4069004.7500 - val_mse: 4069004.7500 - val_mae: 1255.6696\n",
      "Epoch 31/100\n",
      "2980/2980 [==============================] - 24s 8ms/step - loss: 4745577.5000 - mse: 4745577.5000 - mae: 1347.4609 - val_loss: 4147893.0000 - val_mse: 4147893.0000 - val_mae: 1309.0829\n",
      "Epoch 32/100\n",
      "2980/2980 [==============================] - 22s 7ms/step - loss: 4729555.0000 - mse: 4729555.0000 - mae: 1349.7081 - val_loss: 4087444.0000 - val_mse: 4087444.0000 - val_mae: 1304.1782\n",
      "Epoch 33/100\n",
      "2980/2980 [==============================] - 19s 6ms/step - loss: 4744863.0000 - mse: 4744863.0000 - mae: 1347.3054 - val_loss: 4341903.0000 - val_mse: 4341903.0000 - val_mae: 1249.1823\n",
      "Epoch 34/100\n",
      "2980/2980 [==============================] - 22s 7ms/step - loss: 4717010.0000 - mse: 4717010.0000 - mae: 1347.6150 - val_loss: 4128177.7500 - val_mse: 4128177.7500 - val_mae: 1323.6422\n",
      "Epoch 35/100\n",
      "2980/2980 [==============================] - 23s 8ms/step - loss: 4742215.0000 - mse: 4742215.0000 - mae: 1350.9838 - val_loss: 4352094.0000 - val_mse: 4352094.0000 - val_mae: 1457.0574\n",
      "Epoch 36/100\n",
      "2980/2980 [==============================] - 21s 7ms/step - loss: 4734953.0000 - mse: 4734953.0000 - mae: 1348.3427 - val_loss: 4502401.5000 - val_mse: 4502401.5000 - val_mae: 1503.4880\n",
      "Epoch 37/100\n",
      "2980/2980 [==============================] - 20s 7ms/step - loss: 4779395.5000 - mse: 4779395.5000 - mae: 1348.1238 - val_loss: 3971173.0000 - val_mse: 3971173.0000 - val_mae: 1303.9050\n",
      "Epoch 38/100\n",
      "2980/2980 [==============================] - 20s 7ms/step - loss: 4774346.0000 - mse: 4774346.0000 - mae: 1345.6301 - val_loss: 4605012.5000 - val_mse: 4605012.5000 - val_mae: 1576.3010\n",
      "Epoch 39/100\n",
      "2980/2980 [==============================] - 18s 6ms/step - loss: 4749698.0000 - mse: 4749698.0000 - mae: 1348.2366 - val_loss: 4535297.5000 - val_mse: 4535297.5000 - val_mae: 1497.6691\n",
      "Epoch 40/100\n",
      "2496/2980 [========================>.....] - ETA: 3s - loss: 4749062.0000 - mse: 4749062.0000 - mae: 1350.0027"
     ]
    }
   ],
   "source": [
    "%%time\n",
    "init_epochs = 0\n",
    "epochs_now = 100\n",
    "history = model.fit(X_train, y_train, epochs=epochs_now, validation_data=(X_val, y_val), initial_epoch=init_epochs)\n",
    "mse_history += history.history['mse']\n",
    "mae_history += history.history['mae']\n",
    "model.save(f'relu_linear_6/model_{epochs_now}.h5')"
   ]
  },
  {
   "cell_type": "code",
   "execution_count": null,
   "metadata": {
    "scrolled": true
   },
   "outputs": [],
   "source": [
    "%%time\n",
    "init_epochs = 100\n",
    "epochs_now = 500\n",
    "history = model.fit(X_train, y_train, epochs=epochs_now, validation_data=(X_val, y_val), initial_epoch=init_epochs)\n",
    "mse_history += history.history['mse']\n",
    "mae_history += history.history['mae']\n",
    "model.save(f'relu_linear_6/model_{epochs_now}.h5')"
   ]
  },
  {
   "cell_type": "code",
   "execution_count": null,
   "metadata": {
    "scrolled": false
   },
   "outputs": [],
   "source": [
    "%%time\n",
    "init_epochs = 500\n",
    "epochs_now = 1000\n",
    "history = model.fit(X_train, y_train, epochs=epochs_now, validation_data=(X_val, y_val), initial_epoch=init_epochs)\n",
    "mse_history += history.history['mse']\n",
    "mae_history += history.history['mae']\n",
    "model.save(f'relu_linear_6/model_{epochs_now}.h5')"
   ]
  },
  {
   "cell_type": "code",
   "execution_count": null,
   "metadata": {
    "scrolled": false
   },
   "outputs": [],
   "source": [
    "%%time\n",
    "init_epochs = 1000\n",
    "epochs_now = 5000\n",
    "history = model.fit(X_train, y_train, epochs=epochs_now, validation_data=(X_val, y_val), initial_epoch=init_epochs)\n",
    "mse_history += history.history['mse']\n",
    "mae_history += history.history['mae']\n",
    "model.save(f'relu_linear_6/model_{epochs_now}.h5')"
   ]
  },
  {
   "cell_type": "code",
   "execution_count": null,
   "metadata": {},
   "outputs": [],
   "source": [
    "plt.plot(mae_history)\n",
    "plt.show()\n",
    "plt.plot(mse_history)\n",
    "plt.show()"
   ]
  },
  {
   "cell_type": "code",
   "execution_count": null,
   "metadata": {},
   "outputs": [],
   "source": []
  }
 ],
 "metadata": {
  "kernelspec": {
   "display_name": "Python 3",
   "language": "python",
   "name": "python3"
  },
  "language_info": {
   "codemirror_mode": {
    "name": "ipython",
    "version": 3
   },
   "file_extension": ".py",
   "mimetype": "text/x-python",
   "name": "python",
   "nbconvert_exporter": "python",
   "pygments_lexer": "ipython3",
   "version": "3.8.3"
  }
 },
 "nbformat": 4,
 "nbformat_minor": 4
}
