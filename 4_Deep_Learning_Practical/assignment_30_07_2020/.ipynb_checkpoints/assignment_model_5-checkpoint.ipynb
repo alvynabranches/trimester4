{
 "cells": [
  {
   "cell_type": "code",
   "execution_count": null,
   "metadata": {},
   "outputs": [],
   "source": [
    "import numpy as np\n",
    "import pandas as pd\n",
    "\n",
    "import matplotlib.pyplot as plt\n",
    "import seaborn as sns\n",
    "\n",
    "import tensorflow.keras as keras\n",
    "from tensorflow.keras.models import Sequential, load_model\n",
    "from tensorflow.keras.layers import Dense, BatchNormalization, Dropout, Input, Flatten, Activation, PReLU\n",
    "from tensorflow.keras.losses import BinaryCrossentropy, CategoricalCrossentropy, SparseCategoricalCrossentropy, MeanSquaredError\n",
    "from tensorflow.keras.optimizers import Adam, SGD, RMSprop\n",
    "from tensorflow.keras.activations import linear, relu\n",
    "from tensorflow.keras.metrics import MeanSquaredLogarithmicError\n",
    "\n",
    "from sklearn.model_selection import train_test_split\n",
    "from sklearn.metrics import mean_squared_error\n",
    "from numpy import sqrt\n",
    "\n",
    "from warnings import filterwarnings\n",
    "filterwarnings('ignore')"
   ]
  },
  {
   "cell_type": "code",
   "execution_count": null,
   "metadata": {},
   "outputs": [],
   "source": [
    "train_df = pd.read_csv('./data/train.csv')\n",
    "test_df = pd.read_csv('./data/test.csv')"
   ]
  },
  {
   "cell_type": "code",
   "execution_count": null,
   "metadata": {},
   "outputs": [],
   "source": [
    "%%time\n",
    "cat = [f'col_{i}' for i in range(1, 117)]\n",
    "con = [f'col_{i}' for i in range(117, 131)]\n",
    "for c in cat:\n",
    "    train_df[c] = train_df[c].astype('category')\n",
    "    test_df[c] = test_df[c].astype('category')\n",
    "    train_df[c] = train_df[c].cat.codes\n",
    "    test_df[c] = test_df[c].cat.codes\n",
    "del c\n",
    "train_df.drop('id', axis=1, inplace=True)\n",
    "test_df.drop('id', axis=1, inplace=True)"
   ]
  },
  {
   "cell_type": "code",
   "execution_count": null,
   "metadata": {},
   "outputs": [],
   "source": [
    "X = train_df.iloc[:,train_df.columns != 'target'].values\n",
    "y = train_df.iloc[:,train_df.columns == 'target'].values"
   ]
  },
  {
   "cell_type": "code",
   "execution_count": null,
   "metadata": {},
   "outputs": [],
   "source": [
    "X_train, X_test, y_train, y_test = train_test_split(X, y)\n",
    "X_train, X_val, y_train, y_val = train_test_split(X_train, y_train)\n",
    "del X, y"
   ]
  },
  {
   "cell_type": "code",
   "execution_count": null,
   "metadata": {},
   "outputs": [],
   "source": [
    "activation_fn = 'relu'\n",
    "model = Sequential()\n",
    "# Input Layer\n",
    "model.add(Input(shape=(130,)))\n",
    "\n",
    "# First Hidden Layer\n",
    "model.add(Dense(260, activation=activation_fn))\n",
    "model.add(Dropout(.3))\n",
    "\n",
    "# Second Hidden Layer\n",
    "model.add(Dense(520, activation=activation_fn))\n",
    "model.add(Dropout(.4))\n",
    "\n",
    "# Third Hidden Layer\n",
    "model.add(Dense(260, activation=activation_fn))\n",
    "model.add(Dropout(.3))\n",
    "\n",
    "# Fourth Hidden Layer\n",
    "model.add(Dense(130, activation=activation_fn))\n",
    "model.add(Dropout(.2))\n",
    "\n",
    "# Firth Hidden Layer\n",
    "model.add(Dense(65, activation=activation_fn))\n",
    "model.add(Dropout(.1))\n",
    "\n",
    "# Sixth Hidden Layer\n",
    "model.add(Dense(32, activation=activation_fn))\n",
    "\n",
    "# Output Layer\n",
    "model.add(Dense(1, activation=linear))\n",
    "model.compile(optimizer=RMSprop(learning_rate=1e-3), loss=MeanSquaredError(), metrics=['mse', 'mae'])\n",
    "model.summary()"
   ]
  },
  {
   "cell_type": "code",
   "execution_count": null,
   "metadata": {},
   "outputs": [],
   "source": [
    "mse_history = []\n",
    "mae_history = []"
   ]
  },
  {
   "cell_type": "code",
   "execution_count": null,
   "metadata": {
    "scrolled": true
   },
   "outputs": [],
   "source": [
    "%%time\n",
    "init_epochs = 0\n",
    "epochs_now = 100\n",
    "history = model.fit(X_train, y_train, epochs=epochs_now, validation_data=(X_val, y_val), initial_epoch=init_epochs)\n",
    "mse_history += history.history['mse']\n",
    "mae_history += history.history['mae']\n",
    "model.save(f'relu_linear_6/model_{epochs_now}.h5')"
   ]
  },
  {
   "cell_type": "code",
   "execution_count": null,
   "metadata": {
    "scrolled": false
   },
   "outputs": [],
   "source": [
    "%%time\n",
    "init_epochs = 100\n",
    "epochs_now = 500\n",
    "history = model.fit(X_train, y_train, epochs=epochs_now, validation_data=(X_val, y_val), initial_epoch=init_epochs)\n",
    "mse_history += history.history['mse']\n",
    "mae_history += history.history['mae']\n",
    "model.save(f'relu_linear_6/model_{epochs_now}.h5')"
   ]
  },
  {
   "cell_type": "code",
   "execution_count": null,
   "metadata": {
    "scrolled": false
   },
   "outputs": [],
   "source": [
    "%%time\n",
    "init_epochs = 500\n",
    "epochs_now = 1000\n",
    "history = model.fit(X_train, y_train, epochs=epochs_now, validation_data=(X_val, y_val), initial_epoch=init_epochs)\n",
    "mse_history += history.history['mse']\n",
    "mae_history += history.history['mae']\n",
    "model.save(f'relu_linear_6/model_{epochs_now}.h5')"
   ]
  },
  {
   "cell_type": "code",
   "execution_count": null,
   "metadata": {
    "scrolled": false
   },
   "outputs": [],
   "source": [
    "%%time\n",
    "init_epochs = 1000\n",
    "epochs_now = 5000\n",
    "history = model.fit(X_train, y_train, epochs=epochs_now, validation_data=(X_val, y_val), initial_epoch=init_epochs)\n",
    "mse_history += history.history['mse']\n",
    "mae_history += history.history['mae']\n",
    "model.save(f'relu_linear_6/model_{epochs_now}.h5')"
   ]
  },
  {
   "cell_type": "code",
   "execution_count": null,
   "metadata": {},
   "outputs": [],
   "source": [
    "plt.plot(mae_history)\n",
    "plt.show()\n",
    "plt.plot(mse_history)\n",
    "plt.show()"
   ]
  },
  {
   "cell_type": "code",
   "execution_count": null,
   "metadata": {},
   "outputs": [],
   "source": []
  }
 ],
 "metadata": {
  "kernelspec": {
   "display_name": "Python 3",
   "language": "python",
   "name": "python3"
  },
  "language_info": {
   "codemirror_mode": {
    "name": "ipython",
    "version": 3
   },
   "file_extension": ".py",
   "mimetype": "text/x-python",
   "name": "python",
   "nbconvert_exporter": "python",
   "pygments_lexer": "ipython3",
   "version": "3.8.3"
  }
 },
 "nbformat": 4,
 "nbformat_minor": 4
}
